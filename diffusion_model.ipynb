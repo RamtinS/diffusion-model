{
 "cells": [
  {
   "metadata": {},
   "cell_type": "markdown",
   "source": "# Diffusion model\n",
   "id": "e830d10bf2fbe4df"
  },
  {
   "metadata": {
    "ExecuteTime": {
     "end_time": "2024-10-29T10:25:12.926285Z",
     "start_time": "2024-10-29T10:25:11.111490Z"
    }
   },
   "cell_type": "code",
   "source": [
    "import torch\n",
    "import torch.nn as nn\n",
    "import torchvision.transforms as transforms\n",
    "from torchvision.datasets import MNIST\n",
    "import matplotlib.pyplot as plt\n",
    "import ssl\n",
    "import certifi\n",
    "import urllib.request"
   ],
   "id": "c7efdf2c44d2bbc",
   "outputs": [],
   "execution_count": 1
  },
  {
   "metadata": {},
   "cell_type": "markdown",
   "source": "#### Load Mnist dataset",
   "id": "3e8612e7be91ed26"
  },
  {
   "metadata": {
    "ExecuteTime": {
     "end_time": "2024-10-29T11:28:10.162752Z",
     "start_time": "2024-10-29T11:28:10.066665Z"
    }
   },
   "cell_type": "code",
   "source": [
    "ssl_context = ssl.create_default_context(cafile=certifi.where())\n",
    "urllib.request.install_opener(urllib.request.build_opener(urllib.request.HTTPSHandler(context=ssl_context)))\n",
    "\n",
    "# Define a transform to normalize the images to [0, 1].\n",
    "transform = transforms.Compose([ transforms.ToTensor() ])\n",
    "\n",
    "# Load the MNIST dataset.\n",
    "mnist = MNIST(root='.', train=True, download=True, transform=transform)\n",
    "\n",
    "x0, label = mnist[0] # First image in the dataset\n",
    "x0 = x0.unsqueeze(0) # Add a batch dimension: [1, 1, 28, 28]\n"
   ],
   "id": "b4256bfa7c8bf18e",
   "outputs": [],
   "execution_count": 72
  },
  {
   "metadata": {},
   "cell_type": "markdown",
   "source": "#### Markov Chain \n",
   "id": "672d47e790033dca"
  },
  {
   "metadata": {
    "ExecuteTime": {
     "end_time": "2024-10-29T11:28:35.962038Z",
     "start_time": "2024-10-29T11:28:35.938195Z"
    }
   },
   "cell_type": "code",
   "source": [
    "time_steps = 100\n",
    "\n",
    "# Calculate the beta values for each step. Beta is the amount of noise added for each step.\n",
    "def get_beta_schedule(step_size, start_value=0.0001, end_value=0.02):\n",
    "  return torch.linspace(start_value, end_value, step_size)\n",
    "\n",
    "betas = get_beta_schedule(time_steps)\n",
    "\n",
    "# Find alpha values and cumulative product of alphas.\n",
    "alphas = 1 - betas\n",
    "alpha_bars = torch.cumprod(alphas, dim=0)  # alpha_bar_t at each timestep\n",
    "\n",
    "# Add noise to image x0 at time step t. \n",
    "def add_noise(x0, t):\n",
    "  # Cumulative noise level for time step t.\n",
    "  alpha_bar_t = alpha_bars[t].view(-1, 1, 1, 1)\n",
    "  \n",
    "  # Generate random Gaussian noise.\n",
    "  noise = torch.randn_like(x0)\n",
    "  \n",
    "  x_t = torch.sqrt(alpha_bar_t) * x0 + torch.sqrt(1 - alpha_bar_t) * noise\n",
    "\n",
    "  return x_t, noise\n",
    "  \n",
    "\n"
   ],
   "id": "9db2ab843b71d4d0",
   "outputs": [],
   "execution_count": 79
  },
  {
   "metadata": {},
   "cell_type": "markdown",
   "source": "#### Test add noise to an image with a Markov chain.",
   "id": "ac2faccc3b1f69a8"
  },
  {
   "metadata": {
    "ExecuteTime": {
     "end_time": "2024-10-29T11:28:38.223764Z",
     "start_time": "2024-10-29T11:28:38.114058Z"
    }
   },
   "cell_type": "code",
   "source": [
    "x_t_, noise_ = add_noise(x0, t=torch.tensor([time_steps-1]))\n",
    "\n",
    "# Convert tensors to numpy for plotting\n",
    "x0_np = x0.squeeze().numpy()  # Original image\n",
    "x_t_np = x_t_.squeeze().detach().numpy()  # Noisy image\n",
    "\n",
    "plt.figure(figsize=(8, 4))\n",
    "plt.subplot(1, 2, 1)\n",
    "plt.title(\"Original Image (x0)\")\n",
    "plt.imshow(x0_np, cmap='gray')\n",
    "plt.axis('off')\n",
    "\n",
    "plt.subplot(1, 2, 2)\n",
    "plt.title(f\"Noisy Image at t={time_steps-1} (x_t)\")\n",
    "plt.imshow(x_t_np, cmap='gray')\n",
    "plt.axis('off')\n",
    "\n",
    "plt.show()"
   ],
   "id": "d546980eb9466f52",
   "outputs": [
    {
     "data": {
      "text/plain": [
       "<Figure size 800x400 with 2 Axes>"
      ],
      "image/png": "[encoded data removed]"
     },
     "metadata": {},
     "output_type": "display_data"
    }
   ],
   "execution_count": 80
  },
  {
   "metadata": {},
   "cell_type": "markdown",
   "source": "#### U-Net Architecture ",
   "id": "eddd0c497fc794"
  },
  {
   "metadata": {
    "ExecuteTime": {
     "end_time": "2024-10-29T14:05:19.449444Z",
     "start_time": "2024-10-29T14:05:19.319808Z"
    }
   },
   "cell_type": "code",
   "source": [
    "class UNet(nn.Module):\n",
    "  def __init__(self):\n",
    "    super(UNet, self).__init__()\n",
    "\n",
    "    self.max_pool = nn.MaxPool2d(2, 2)\n",
    "\n",
    "    # Contracting path: Decrease image dimensions while capturing relevant features.\n",
    "    self.encoder1 = double_conv_relu(1, 64)\n",
    "    self.encoder2 = double_conv_relu(64, 128)\n",
    "\n",
    "    # The crossing between contracting and expanding.\n",
    "    self.bottleneck = double_conv_relu(128, 256)\n",
    "\n",
    "    # Expanding path: Reconstruct the output image using the most relevant features from the Contracting path.\n",
    "    self.up_convolution_1 = nn.ConvTranspose2d(256, 128, kernel_size=2, stride=2)\n",
    "    self.up_convolution_2 = nn.ConvTranspose2d(128, 64, kernel_size=2, stride=2)\n",
    "\n",
    "    self.decoder1 = double_conv_relu(256, 128)\n",
    "    self.decoder2 = double_conv_relu(128, 64)\n",
    "\n",
    "    # Output\n",
    "    self.output_layer = nn.Conv2d(64, 1, kernel_size=1)\n",
    "\n",
    "  def forward(self, image):\n",
    "\n",
    "    # Each block consists of two convolutions and two ReLu layers.\n",
    "    # Between each block, pooling is used to reduce the size of the feature map.\n",
    "    enc1_out = self.encoder1(image) # Output is passed on the corresponding block in the Expanding path.\n",
    "    pool_enc1_out = self.max_pool(enc1_out)\n",
    "\n",
    "    enc2_out = self.encoder2(pool_enc1_out) # Encoder dlock 2 output -> Decoder block 1\n",
    "    pool_enc2_out = self.max_pool(enc2_out)\n",
    "\n",
    "    bottle_out = self.bottleneck(pool_enc2_out)\n",
    "\n",
    "    # Each block consists of two convolutions and two ReLu layers.\n",
    "    # Between each block, transposed convolution (up-conv) is used to increase the size of the spatial size.\n",
    "    up_conv_1_out = self.up_convolution_1(bottle_out)\n",
    "    crop_up_conv_1_out = crop_tensor(enc2_out, up_conv_1_out)\n",
    "    dec1_out = self.decoder1(torch.cat([up_conv_1_out, crop_up_conv_1_out], dim=1))\n",
    "\n",
    "    up_conv_2_out = self.up_convolution_2(dec1_out)\n",
    "    crop_up_conv_2_out = crop_tensor(enc1_out, up_conv_2_out)\n",
    "    dec2_out = self.decoder2(torch.cat([up_conv_2_out, crop_up_conv_2_out], dim=1))\n",
    "\n",
    "    return self.output_layer(dec2_out)\n",
    "\n",
    "# Double convolution with ReLU\n",
    "def double_conv_relu(in_channels, out_channels):\n",
    "  return nn.Sequential(\n",
    "    nn.Conv2d(in_channels, out_channels, kernel_size=3, padding=1),\n",
    "    nn.ReLU(inplace=True),\n",
    "    nn.Conv2d(out_channels, out_channels, kernel_size=3, padding=1),\n",
    "    nn.ReLU(inplace=True),\n",
    "  )\n",
    "\n",
    "# Make the tensor the same size as the target tensor by cropping.\n",
    "def crop_tensor(tensor, target_tensor):\n",
    "  target_size = target_tensor.size()[2]\n",
    "  tensor_size = tensor.size()[2]\n",
    "  delta = (tensor_size - target_size) // 2\n",
    "  return tensor[:, :, delta:tensor_size - delta, delta:tensor_size - delta]\n"
   ],
   "id": "f3f8fb18035c0984",
   "outputs": [],
   "execution_count": 81
  },
  {
   "metadata": {},
   "cell_type": "markdown",
   "source": "#### Training Loop",
   "id": "47a499bec0f26c3"
  },
  {
   "metadata": {},
   "cell_type": "code",
   "outputs": [],
   "execution_count": null,
   "source": "",
   "id": "9e123fe83e50615c"
  },
  {
   "metadata": {},
   "cell_type": "markdown",
   "source": "",
   "id": "6dd327ab7fda8996"
  }
 ],
 "metadata": {
  "kernelspec": {
   "display_name": "Python 3",
   "language": "python",
   "name": "python3"
  },
  "language_info": {
   "codemirror_mode": {
    "name": "ipython",
    "version": 2
   },
   "file_extension": ".py",
   "mimetype": "text/x-python",
   "name": "python",
   "nbconvert_exporter": "python",
   "pygments_lexer": "ipython2",
   "version": "2.7.6"
  }
 },
 "nbformat": 4,
 "nbformat_minor": 5
}
