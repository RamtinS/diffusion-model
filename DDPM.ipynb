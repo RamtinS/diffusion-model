{
 "cells": [
  {
   "cell_type": "code",
   "id": "initial_id",
   "metadata": {
    "collapsed": true,
    "ExecuteTime": {
     "end_time": "2024-11-12T13:33:29.685531Z",
     "start_time": "2024-11-12T13:33:29.658762Z"
    }
   },
   "source": [
    "import math\n",
    "import random\n",
    "import ssl\n",
    "import urllib.request\n",
    "\n",
    "import certifi\n",
    "import matplotlib.pyplot as plt\n",
    "import torch\n",
    "import torch.nn as nn\n",
    "import torch.nn.functional as F\n",
    "import torchvision.transforms as transforms\n",
    "import torchvision.utils\n",
    "from torch.utils.data import DataLoader\n",
    "from torchvision.datasets import MNIST\n",
    "from tqdm import tqdm\n",
    "from tqdm.auto import tqdm\n",
    "\n",
    "from deviceUtility import get_best_available_device\n",
    "\n",
    "# Fix SSL certificate issue\n",
    "ssl_context = ssl.create_default_context(cafile=certifi.where())\n",
    "urllib.request.install_opener(urllib.request.build_opener(urllib.request.HTTPSHandler(context=ssl_context)))\n",
    "gpu = get_best_available_device()"
   ],
   "outputs": [
    {
     "name": "stdout",
     "output_type": "stream",
     "text": [
      "________________________\n",
      "\u001B[94m\n",
      "Device manager:\n",
      "Running on device: mps\u001B[0m\n",
      "________________________\n"
     ]
    }
   ],
   "execution_count": 260
  },
  {
   "metadata": {},
   "cell_type": "markdown",
   "source": "### Hyperparameters",
   "id": "f867e93ca3b4f5bf"
  },
  {
   "metadata": {
    "ExecuteTime": {
     "end_time": "2024-11-12T13:33:29.695738Z",
     "start_time": "2024-11-12T13:33:29.693582Z"
    }
   },
   "cell_type": "code",
   "source": [
    "TIME_STEP = 1000\n",
    "EPOCH_NUM = 20\n",
    "LEARNING_RATE = 1e-4\n",
    "\n",
    "BETA_START = 1e-4\n",
    "BETA_END = 0.02\n",
    "\n",
    "BATCH_SIZE = 32"
   ],
   "id": "d4926b587a5574c6",
   "outputs": [],
   "execution_count": 261
  },
  {
   "metadata": {},
   "cell_type": "markdown",
   "source": "### Precalculations",
   "id": "52f138253135a01b"
  },
  {
   "metadata": {},
   "cell_type": "markdown",
   "source": "#### Variance Scheduler",
   "id": "a8b52b3363f0fb8f"
  },
  {
   "metadata": {
    "ExecuteTime": {
     "end_time": "2024-11-12T13:33:31.024711Z",
     "start_time": "2024-11-12T13:33:31.022082Z"
    }
   },
   "cell_type": "code",
   "source": [
    "def cosine_beta_scheduler(steps, s=0.008):\n",
    "    \"\"\"\n",
    "    cosine schedule as proposed in https://arxiv.org/abs/2102.09672\n",
    "    \"\"\"\n",
    "    steps = steps + 1\n",
    "    x = torch.linspace(0, steps, steps, device=gpu)\n",
    "    alphas_cum_prod = torch.cos(((x / steps) + s) / (1 + s) * torch.pi * 0.5) ** 2\n",
    "    alphas_cum_prod = alphas_cum_prod / alphas_cum_prod[0]\n",
    "    betas = 1 - (alphas_cum_prod[1:] / alphas_cum_prod[:-1])\n",
    "    return torch.clip(betas, 0.0001, 0.9999)"
   ],
   "id": "df9c8aec7a964768",
   "outputs": [],
   "execution_count": 262
  },
  {
   "metadata": {
    "ExecuteTime": {
     "end_time": "2024-11-12T13:33:32.150137Z",
     "start_time": "2024-11-12T13:33:32.140065Z"
    }
   },
   "cell_type": "code",
   "source": [
    "betas = torch.linspace(BETA_START, BETA_END, TIME_STEP,\n",
    "                       device=gpu)  #cosine_beta_scheduler(TIME_STEP)# # Linear Variance Scheduler\n",
    "alphas = 1. - betas\n",
    "alphas_cum_prod = torch.cumprod(alphas, 0)\n",
    "alphas_cum_prod_prev = F.pad(alphas_cum_prod[:-1], (1, 0), value=1.0)\n",
    "sqrt_recip_alphas = torch.sqrt(1.0 / alphas)\n",
    "sqrt_alphas_cum_prod = torch.sqrt(alphas_cum_prod)\n",
    "sqrt_one_minus_alphas_cum_prod = torch.sqrt(1. - alphas_cum_prod)\n",
    "posterior_variance = betas * (1. - alphas_cum_prod_prev) / (1. - alphas_cum_prod)"
   ],
   "id": "f541f601c740ff10",
   "outputs": [],
   "execution_count": 263
  },
  {
   "metadata": {},
   "cell_type": "markdown",
   "source": "### Helper functions",
   "id": "b02b34f767d87ab9"
  },
  {
   "metadata": {
    "ExecuteTime": {
     "end_time": "2024-11-12T13:33:33.251715Z",
     "start_time": "2024-11-12T13:33:33.247190Z"
    }
   },
   "cell_type": "code",
   "source": [
    "def extract(equation, timestep, x_shape):\n",
    "    \"\"\"\n",
    "    Extracts the values of the equation for the given timestep for every image in the batch.\n",
    "    \"\"\"\n",
    "    size = timestep.shape[0]\n",
    "    out = equation.gather(-1, timestep.to(gpu))\n",
    "    return out.reshape(size, *((1,) * (len(x_shape) - 1))).to(timestep.device)\n",
    "\n",
    "\n",
    "def q_sample(image_batch, timestep, noise=None):\n",
    "    \"\"\"\n",
    "    Forward pass of the diffusion model.\n",
    "    Adds noise to an image at time t.\n",
    "    If noise is not provided, it is sampled from a standard normal distribution.\n",
    "    \"\"\"\n",
    "    if noise is None:\n",
    "        noise = torch.randn_like(image_batch)\n",
    "\n",
    "    # Extract the values for every image in the batch for the given timestep\n",
    "    sqrt_alphas_cum_prod_t = extract(sqrt_alphas_cum_prod, timestep, image_batch.shape)\n",
    "    sqrt_one_minus_alphas_cum_prod_t = extract(sqrt_one_minus_alphas_cum_prod, timestep, image_batch.shape)\n",
    "\n",
    "    return sqrt_alphas_cum_prod_t * image_batch + sqrt_one_minus_alphas_cum_prod_t * noise\n",
    "\n",
    "\n",
    "@torch.no_grad()\n",
    "def p_sample(model, x, t, t_index, condition, guidance_Weight=0.5):\n",
    "    \"\"\"\n",
    "    Reverse pass of the diffusion model.\n",
    "    Given an image at time t, it predicts the image at time t-1.\n",
    "    \"\"\"\n",
    "    condition = condition.to(gpu)\n",
    "    betas_t = extract(betas, t, x.shape)\n",
    "\n",
    "    sqrt_one_minus_alphas_cum_prod_t = extract(\n",
    "        sqrt_one_minus_alphas_cum_prod, t, x.shape\n",
    "    )\n",
    "\n",
    "    sqrt_recip_alphas_t = extract(sqrt_recip_alphas, t, x.shape)\n",
    "\n",
    "    model_mean_unconditional = sqrt_recip_alphas_t * (x - betas_t * model(x, t) / sqrt_one_minus_alphas_cum_prod_t)\n",
    "\n",
    "    model_mean_conditional = sqrt_recip_alphas_t * (\n",
    "            x - betas_t * model(x, t, condition) / sqrt_one_minus_alphas_cum_prod_t)\n",
    "\n",
    "    model_mean_guided = (1 + guidance_Weight) * model_mean_conditional - guidance_Weight * model_mean_unconditional\n",
    "\n",
    "    if t_index == 0:\n",
    "        return model_mean_guided\n",
    "    else:\n",
    "        \"\"\"\n",
    "        Helps determine amount of noise to remove from the image.\n",
    "        \"\"\"\n",
    "        posterior_variance_t = extract(posterior_variance, t, x.shape)\n",
    "        noise = torch.randn_like(x)\n",
    "        return model_mean_guided + torch.sqrt(posterior_variance_t) * noise\n",
    "\n",
    "\n",
    "@torch.no_grad()\n",
    "def p_sample_loop(model, shape, conditionals):\n",
    "    device = gpu\n",
    "    b = shape[0]\n",
    "    conditionals.to(gpu)\n",
    "    img = torch.randn(shape, device=device)  # Random noised image\n",
    "\n",
    "    for i in tqdm(reversed(range(0, TIME_STEP)), desc='Sampling loop time step.', total=TIME_STEP):\n",
    "        img = p_sample(model=model, x=img, t=torch.full((b,), i, device=device, dtype=torch.long), t_index=i,condition=conditionals)\n",
    "    return img\n",
    "\n",
    "\n",
    "def p_losses(denoise_model, x_start, timestep, conditionals, noise=None, loss_type=\"l1\"):\n",
    "    # If noise is not provided, create noise similar to the input image\n",
    "    if noise is None:\n",
    "        noise = torch.randn_like(x_start)\n",
    "\n",
    "    # Input image with the random noise and the timestep\n",
    "    x_noisy = q_sample(x_start, timestep, noise)\n",
    "\n",
    "    # Feed the noisy image to the denoise model to predict the noise\n",
    "    predicted_noise = denoise_model(x_noisy, timestep, conditionals)\n",
    "\n",
    "    # Calculate the loss between the predicted noise and the actual noise\n",
    "    if loss_type == 'l1':\n",
    "        model_loss = F.l1_loss(noise, predicted_noise)\n",
    "    elif loss_type == 'l2':\n",
    "        model_loss = F.mse_loss(noise, predicted_noise)\n",
    "    elif loss_type == \"huber\":\n",
    "        model_loss = F.smooth_l1_loss(noise, predicted_noise)\n",
    "    else:\n",
    "        raise NotImplementedError()\n",
    "\n",
    "    return model_loss\n"
   ],
   "id": "48ec7d015a4da8d",
   "outputs": [],
   "execution_count": 264
  },
  {
   "metadata": {},
   "cell_type": "markdown",
   "source": [
    "### Sinusoidal Positional Embedding\n",
    "As parameter of neural network are \n",
    "shared across time one should employ \n",
    "a sinusoidal embedding to encode the position of the input. \n",
    "Makes the neural network know which timestep it is at."
   ],
   "id": "a81d9d6903c0e1b2"
  },
  {
   "metadata": {
    "ExecuteTime": {
     "end_time": "2024-11-12T13:33:34.363690Z",
     "start_time": "2024-11-12T13:33:34.361437Z"
    }
   },
   "cell_type": "code",
   "source": [
    "class SinusoidalPositionalEmbedding(nn.Module):\n",
    "    def __init__(self, embedding_dim):\n",
    "        super(SinusoidalPositionalEmbedding, self).__init__()\n",
    "        self.embedding_dim = embedding_dim\n",
    "\n",
    "    def forward(self, t):\n",
    "        # Create a sinusoidal embedding for each position in time\n",
    "        half_dim = self.embedding_dim // 2\n",
    "        emb = math.log(10000) / (half_dim - 1)\n",
    "        emb = torch.exp(torch.arange(half_dim, dtype=torch.float32, device=gpu) * -emb)\n",
    "        emb = t[:, None] * emb[None, :]\n",
    "        emb = torch.cat([torch.sin(emb), torch.cos(emb)], dim=1)\n",
    "        return emb.to(gpu)"
   ],
   "id": "80ce23441f46147b",
   "outputs": [],
   "execution_count": 265
  },
  {
   "metadata": {},
   "cell_type": "markdown",
   "source": [
    "### Convolutional Layer\n",
    "Classes which define the building blocks of the UNet architecture.\n",
    "Consists of double convolutional layers with ReLU activation functions.\n",
    "Also includes a time embedding layer which is added to the output of the first convolutional layer."
   ],
   "id": "c0804446581939b8"
  },
  {
   "metadata": {
    "ExecuteTime": {
     "end_time": "2024-11-12T13:33:35.465260Z",
     "start_time": "2024-11-12T13:33:35.462391Z"
    }
   },
   "cell_type": "code",
   "source": [
    "class Block(nn.Module):\n",
    "    def __init__(self, in_channels, out_channels, time_emb_dim):\n",
    "        super(Block, self).__init__()\n",
    "\n",
    "        self.time_mlp = nn.Sequential(\n",
    "            SinusoidalPositionalEmbedding(time_emb_dim),\n",
    "            nn.Linear(time_emb_dim, out_channels),\n",
    "            nn.ReLU(inplace=True)\n",
    "        )\n",
    "\n",
    "        self.condition_emb = nn.Sequential(\n",
    "            nn.Linear(10, out_channels),\n",
    "            nn.ReLU(inplace=True)\n",
    "        )\n",
    "\n",
    "        self.conv1 = nn.Conv2d(in_channels, out_channels, kernel_size=3, padding=1)\n",
    "        self.conv2 = nn.Conv2d(out_channels, out_channels, kernel_size=3, padding=1)\n",
    "        self.relu = nn.ReLU(inplace=True)\n",
    "\n",
    "    def forward(self, x, t, c=None):\n",
    "        # First convolution\n",
    "        h = self.relu(self.conv1(x))\n",
    "\n",
    "        # Compute time embedding and reshape to match spatial dimensions\n",
    "        time_emb = self.time_mlp(t)\n",
    "        time_emb = time_emb[(...,) + (None,) * 2]  # Shape (batch, channels, 1, 1)\n",
    "\n",
    "        # Add time embedding\n",
    "        h = h + time_emb\n",
    "\n",
    "        if isinstance(c, torch.Tensor):\n",
    "            cemb = self.condition_emb(c).to(gpu)\n",
    "        \n",
    "            cemb = cemb[(...,) + (None,) * 2]  # Shape (batch, channels, 1, 1)\n",
    "            h = h + cemb\n",
    "\n",
    "        # Second convolution\n",
    "        h = self.relu(self.conv2(h))\n",
    "        return h"
   ],
   "id": "4fc67c307e5c487a",
   "outputs": [],
   "execution_count": 266
  },
  {
   "metadata": {},
   "cell_type": "markdown",
   "source": [
    "### U-net\n",
    "The UNet architecture for approximating the means of the posterior distribution.\n",
    "The architecture consists of a contracting path, a bottleneck, and an expanding path."
   ],
   "id": "747cdf4ad9e20cba"
  },
  {
   "metadata": {
    "ExecuteTime": {
     "end_time": "2024-11-12T13:33:36.571055Z",
     "start_time": "2024-11-12T13:33:36.567347Z"
    }
   },
   "cell_type": "code",
   "source": [
    "class UNet(nn.Module):\n",
    "    def __init__(self):\n",
    "        super(UNet, self).__init__()\n",
    "\n",
    "        self.time_emb_dim = 32\n",
    "        self.max_pool = nn.MaxPool2d(2, 2)\n",
    "\n",
    "        # Contracting path\n",
    "        self.encoder1 = Block(1, 64, self.time_emb_dim)\n",
    "        self.encoder2 = Block(64, 128, self.time_emb_dim)\n",
    "\n",
    "        # Bottleneck\n",
    "        self.bottleneck = Block(128, 256, self.time_emb_dim)\n",
    "\n",
    "        # Expanding path\n",
    "        self.up_convolution_3 = nn.ConvTranspose2d(256, 128, kernel_size=2,\n",
    "                                                   stride=2)\n",
    "        self.up_convolution_4 = nn.ConvTranspose2d(128, 64, kernel_size=2,\n",
    "                                                   stride=2)\n",
    "\n",
    "        self.decoder3 = Block(256, 128, self.time_emb_dim)\n",
    "        self.decoder4 = Block(128, 64, self.time_emb_dim)\n",
    "\n",
    "        self.output_layer = nn.Conv2d(64, 1, kernel_size=1)\n",
    "\n",
    "    def forward(self, x, t, c=None):\n",
    "        # Contracting path\n",
    "        enc1_out = self.encoder1(x, t, c)\n",
    "        pool_enc1_out = self.max_pool(enc1_out)\n",
    "\n",
    "        enc2_out = self.encoder2(pool_enc1_out, t, c)\n",
    "        pool_enc2_out = self.max_pool(enc2_out)\n",
    "\n",
    "        # Bottleneck\n",
    "        bottle_out = self.bottleneck(pool_enc2_out, t, c)\n",
    "\n",
    "        # Expanding path, sees på...\n",
    "        up_conv_3_out = self.up_convolution_3(bottle_out)\n",
    "        crop_up_conv_3_out = crop_tensor(enc2_out, up_conv_3_out)\n",
    "        dec3_out = self.decoder3(\n",
    "            torch.cat([up_conv_3_out, crop_up_conv_3_out], dim=1), t, c)\n",
    "\n",
    "        up_conv_4_out = self.up_convolution_4(dec3_out)\n",
    "        crop_up_conv_4_out = crop_tensor(enc1_out, up_conv_4_out)\n",
    "        dec4_out = self.decoder4(\n",
    "            torch.cat([up_conv_4_out, crop_up_conv_4_out], dim=1), t, c)\n",
    "\n",
    "        output = self.output_layer(dec4_out)\n",
    "\n",
    "        return output\n",
    "\n",
    "\n",
    "def crop_tensor(tensor, target_tensor):\n",
    "    \"\"\"Make the tensor the same size as the target tensor by cropping.\"\"\"\n",
    "    target_size = target_tensor.size()[2:]\n",
    "    tensor_size = tensor.size()[2:]\n",
    "    delta_h = (tensor_size[0] - target_size[0]) // 2\n",
    "    delta_w = (tensor_size[1] - target_size[1]) // 2\n",
    "    return tensor[:, :, delta_h:tensor_size[0] - delta_h,\n",
    "           delta_w:tensor_size[1] - delta_w]"
   ],
   "id": "fd6ec495e119642d",
   "outputs": [],
   "execution_count": 267
  },
  {
   "metadata": {},
   "cell_type": "markdown",
   "source": "### Load data",
   "id": "fd4a00b46673a8a6"
  },
  {
   "metadata": {
    "ExecuteTime": {
     "end_time": "2024-11-12T13:33:37.708989Z",
     "start_time": "2024-11-12T13:33:37.677993Z"
    }
   },
   "cell_type": "code",
   "source": [
    "image_size = 28\n",
    "channels = 1  # Grey scale\n",
    "\n",
    "transform = transforms.Compose(\n",
    "    [transforms.RandomHorizontalFlip(),  # Said in paper to help with training\n",
    "     transforms.ToTensor(),\n",
    "     transforms.Lambda(lambda x: (x * 2) - 1),  # Normalize to [-1, 1]\n",
    "     ]\n",
    ")\n",
    "\n",
    "mnist = MNIST(root='.', train=True, download=True, transform=transform)\n",
    "\n",
    "dataloader = DataLoader(mnist, batch_size=BATCH_SIZE, shuffle=True, )"
   ],
   "id": "bc9558cdca3c860f",
   "outputs": [],
   "execution_count": 268
  },
  {
   "metadata": {},
   "cell_type": "markdown",
   "source": "### Training model\n",
   "id": "e60154cf4fa8d6b"
  },
  {
   "metadata": {
    "ExecuteTime": {
     "end_time": "2024-11-12T13:49:18.355269Z",
     "start_time": "2024-11-12T13:33:38.871265Z"
    }
   },
   "cell_type": "code",
   "source": [
    "# Train model\n",
    "model = UNet().to(gpu)\n",
    "optimizer = torch.optim.Adam(model.parameters(), lr=LEARNING_RATE)\n",
    "\n",
    "with tqdm(range(0, EPOCH_NUM), desc=\"Epochs\", total=EPOCH_NUM) as epoch_progress:\n",
    "    for epoch in epoch_progress:\n",
    "        for step, (batch, c) in enumerate(dataloader):  # Iterate over every batch in the dataloader\n",
    "\n",
    "            # Convert the labels to one-hot encoding half of the time. \n",
    "            if random.random() < 0.5:\n",
    "                c = nn.functional.one_hot(c, num_classes=10).float()\n",
    "            else:\n",
    "                c = torch.zeros_like(nn.functional.one_hot(c, num_classes=10).float())\n",
    "            optimizer.zero_grad()\n",
    "\n",
    "            # Get the batch size and move the batch to the device\n",
    "            batch_size = batch.shape[0]\n",
    "            batch = batch.to(gpu)\n",
    "\n",
    "            # Algorithm 1 line 3: sample t uniformly for every example in the batch\n",
    "            t = torch.randint(0, TIME_STEP, (batch_size,), device=gpu).long()\n",
    "            c = c.to(gpu)\n",
    "            loss = p_losses(model, batch, t, conditionals=c)\n",
    "\n",
    "            # If the step is a multiple of 100, print the loss\n",
    "            if step % 100 == 0:\n",
    "                epoch_progress.set_postfix(loss=loss.item())\n",
    "\n",
    "            # Algorithm 1 line 5: backpropagate the loss\n",
    "            loss.backward()\n",
    "\n",
    "            # Algorithm 1 line 6: update the weights\n",
    "            optimizer.step()"
   ],
   "id": "d4739cfd2ad3f465",
   "outputs": [
    {
     "name": "stderr",
     "output_type": "stream",
     "text": [
      "Epochs: 100%|██████████| 20/20 [15:39<00:00, 46.96s/it, loss=0.0566]\n"
     ]
    }
   ],
   "execution_count": 269
  },
  {
   "metadata": {},
   "cell_type": "markdown",
   "source": "### Generate images",
   "id": "2f27345b2119b5bd"
  },
  {
   "metadata": {
    "ExecuteTime": {
     "end_time": "2024-11-12T13:56:22.829363Z",
     "start_time": "2024-11-12T13:56:09.140893Z"
    }
   },
   "cell_type": "code",
   "source": [
    "numbers = torch.tensor([0,1,2,3,4,5,6,7,8,9, 0,1,2,3,4,5,6,7,8,9, 0,1,2,3,4,5,6,7,8,9, 5, 5])\n",
    "numbers = nn.functional.one_hot(numbers, num_classes=10)\n",
    "numbers = numbers.type(torch.float32)\n",
    "numbers.to(gpu)\n",
    "\n",
    "samples = p_sample_loop(model, shape=(BATCH_SIZE, channels, image_size, image_size), conditionals=numbers)\n",
    "\n",
    "plt.figure(figsize=(10, 10))\n",
    "plt.axis(\"off\")\n",
    "\n",
    "plt.imshow(torchvision.utils.make_grid(samples, nrow=8).cpu().detach().numpy()[0], cmap='gray')"
   ],
   "id": "96735a11f4a09034",
   "outputs": [
    {
     "name": "stderr",
     "output_type": "stream",
     "text": [
      "Sampling loop time step.: 100%|██████████| 1000/1000 [00:13<00:00, 73.45it/s]\n"
     ]
    },
    {
     "data": {
      "text/plain": [
       "<matplotlib.image.AxesImage at 0x160576300>"
      ]
     },
     "execution_count": 274,
     "metadata": {},
     "output_type": "execute_result"
    },
    {
     "data": {
      "text/plain": [
       "<Figure size 1000x1000 with 1 Axes>"
      ],
      "image/png": "[encoded data removed]"
     },
     "metadata": {},
     "output_type": "display_data"
    }
   ],
   "execution_count": 274
  },
  {
   "metadata": {
    "ExecuteTime": {
     "end_time": "2024-11-12T13:49:34.188021Z",
     "start_time": "2024-11-12T13:49:34.145980Z"
    }
   },
   "cell_type": "code",
   "source": [
    "import os\n",
    "import torch\n",
    "import torchvision.transforms as T\n",
    "\n",
    "amount = 5000\n",
    "samples = p_sample_loop(model, shape=(amount, channels, image_size, image_size))\n",
    "path = \"./generated_images\"\n",
    "os.makedirs(path, exist_ok=True)\n",
    "\n",
    "transform = T.ToPILImage(mode=\"L\")\n",
    "\n",
    "\n",
    "def save_tensor_as_image(tensor, filename=\"./generated_images\"):\n",
    "    tensor = torch.clamp(tensor, 0, 1)\n",
    "    for i, tensor in enumerate(tensor):\n",
    "        img = transform(tensor)\n",
    "        img.save(os.path.join(path, f\"{filename}{i}.png\"))\n",
    "\n",
    "\n",
    "save_tensor_as_image(samples, \"sample\")"
   ],
   "id": "89ccbf5c0712799e",
   "outputs": [
    {
     "ename": "TypeError",
     "evalue": "p_sample_loop() missing 1 required positional argument: 'conditionals'",
     "output_type": "error",
     "traceback": [
      "\u001B[0;31m---------------------------------------------------------------------------\u001B[0m",
      "\u001B[0;31mTypeError\u001B[0m                                 Traceback (most recent call last)",
      "Cell \u001B[0;32mIn[271], line 6\u001B[0m\n\u001B[1;32m      3\u001B[0m \u001B[38;5;28;01mimport\u001B[39;00m \u001B[38;5;21;01mtorchvision\u001B[39;00m\u001B[38;5;21;01m.\u001B[39;00m\u001B[38;5;21;01mtransforms\u001B[39;00m \u001B[38;5;28;01mas\u001B[39;00m \u001B[38;5;21;01mT\u001B[39;00m\n\u001B[1;32m      5\u001B[0m amount \u001B[38;5;241m=\u001B[39m \u001B[38;5;241m5000\u001B[39m\n\u001B[0;32m----> 6\u001B[0m samples \u001B[38;5;241m=\u001B[39m \u001B[43mp_sample_loop\u001B[49m\u001B[43m(\u001B[49m\u001B[43mmodel\u001B[49m\u001B[43m,\u001B[49m\u001B[43m \u001B[49m\u001B[43mshape\u001B[49m\u001B[38;5;241;43m=\u001B[39;49m\u001B[43m(\u001B[49m\u001B[43mamount\u001B[49m\u001B[43m,\u001B[49m\u001B[43m \u001B[49m\u001B[43mchannels\u001B[49m\u001B[43m,\u001B[49m\u001B[43m \u001B[49m\u001B[43mimage_size\u001B[49m\u001B[43m,\u001B[49m\u001B[43m \u001B[49m\u001B[43mimage_size\u001B[49m\u001B[43m)\u001B[49m\u001B[43m)\u001B[49m\n\u001B[1;32m      7\u001B[0m path \u001B[38;5;241m=\u001B[39m \u001B[38;5;124m\"\u001B[39m\u001B[38;5;124m./generated_images\u001B[39m\u001B[38;5;124m\"\u001B[39m\n\u001B[1;32m      8\u001B[0m os\u001B[38;5;241m.\u001B[39mmakedirs(path, exist_ok\u001B[38;5;241m=\u001B[39m\u001B[38;5;28;01mTrue\u001B[39;00m)\n",
      "File \u001B[0;32m/Library/Frameworks/Python.framework/Versions/3.12/lib/python3.12/site-packages/torch/utils/_contextlib.py:116\u001B[0m, in \u001B[0;36mcontext_decorator.<locals>.decorate_context\u001B[0;34m(*args, **kwargs)\u001B[0m\n\u001B[1;32m    113\u001B[0m \u001B[38;5;129m@functools\u001B[39m\u001B[38;5;241m.\u001B[39mwraps(func)\n\u001B[1;32m    114\u001B[0m \u001B[38;5;28;01mdef\u001B[39;00m \u001B[38;5;21mdecorate_context\u001B[39m(\u001B[38;5;241m*\u001B[39margs, \u001B[38;5;241m*\u001B[39m\u001B[38;5;241m*\u001B[39mkwargs):\n\u001B[1;32m    115\u001B[0m     \u001B[38;5;28;01mwith\u001B[39;00m ctx_factory():\n\u001B[0;32m--> 116\u001B[0m         \u001B[38;5;28;01mreturn\u001B[39;00m \u001B[43mfunc\u001B[49m\u001B[43m(\u001B[49m\u001B[38;5;241;43m*\u001B[39;49m\u001B[43margs\u001B[49m\u001B[43m,\u001B[49m\u001B[43m \u001B[49m\u001B[38;5;241;43m*\u001B[39;49m\u001B[38;5;241;43m*\u001B[39;49m\u001B[43mkwargs\u001B[49m\u001B[43m)\u001B[49m\n",
      "\u001B[0;31mTypeError\u001B[0m: p_sample_loop() missing 1 required positional argument: 'conditionals'"
     ]
    }
   ],
   "execution_count": 271
  }
 ],
 "metadata": {
  "kernelspec": {
   "display_name": "Python 3",
   "language": "python",
   "name": "python3"
  },
  "language_info": {
   "codemirror_mode": {
    "name": "ipython",
    "version": 2
   },
   "file_extension": ".py",
   "mimetype": "text/x-python",
   "name": "python",
   "nbconvert_exporter": "python",
   "pygments_lexer": "ipython2",
   "version": "2.7.6"
  }
 },
 "nbformat": 4,
 "nbformat_minor": 5
}
