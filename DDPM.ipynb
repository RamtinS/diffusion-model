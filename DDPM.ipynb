{
 "cells": [
  {
   "cell_type": "code",
   "id": "initial_id",
   "metadata": {
    "collapsed": true,
    "ExecuteTime": {
     "end_time": "2024-11-10T22:05:40.774115Z",
     "start_time": "2024-11-10T22:05:40.479026Z"
    }
   },
   "source": [
    "import math\n",
    "import ssl\n",
    "import urllib.request\n",
    "\n",
    "import certifi\n",
    "import matplotlib.pyplot as plt\n",
    "import torch\n",
    "import torch.nn as nn\n",
    "import torch.nn.functional as F\n",
    "import torchvision.transforms as transforms\n",
    "import torchvision.utils\n",
    "from torch.utils.data import DataLoader\n",
    "from torch.utils.data import Dataset\n",
    "from torchvision.datasets import MNIST\n",
    "from tqdm import tqdm\n",
    "from tqdm.auto import tqdm\n",
    "\n",
    "from deviceUtility import get_best_available_device\n",
    "\n",
    "# Fix SSL certificate issue\n",
    "ssl_context = ssl.create_default_context(cafile=certifi.where())\n",
    "urllib.request.install_opener(urllib.request.build_opener(urllib.request.HTTPSHandler(context=ssl_context)))\n",
    "gpu = get_best_available_device()"
   ],
   "outputs": [
    {
     "name": "stdout",
     "output_type": "stream",
     "text": [
      "________________________\n",
      "\u001B[94m\n",
      "Device manager:\n",
      "Running on device: mps\u001B[0m\n",
      "________________________\n"
     ]
    },
    {
     "name": "stderr",
     "output_type": "stream",
     "text": [
      "/Library/Frameworks/Python.framework/Versions/3.12/lib/python3.12/site-packages/tqdm/auto.py:21: TqdmWarning: IProgress not found. Please update jupyter and ipywidgets. See https://ipywidgets.readthedocs.io/en/stable/user_install.html\n",
      "  from .autonotebook import tqdm as notebook_tqdm\n"
     ]
    }
   ],
   "execution_count": 3
  },
  {
   "metadata": {},
   "cell_type": "markdown",
   "source": "### Constants",
   "id": "f867e93ca3b4f5bf"
  },
  {
   "metadata": {
    "ExecuteTime": {
     "end_time": "2024-11-10T22:05:40.786036Z",
     "start_time": "2024-11-10T22:05:40.783834Z"
    }
   },
   "cell_type": "code",
   "source": [
    "TIME_STEP = 1000\n",
    "EPOCH_NUM = 30\n",
    "LEARNING_RATE = 1e-4\n",
    "\n",
    "# Set according to DDPM paper\n",
    "BETA_START = 1e-4\n",
    "BETA_END = 0.02\n",
    "\n",
    "BATCH_SIZE = 32"
   ],
   "id": "d4926b587a5574c6",
   "outputs": [],
   "execution_count": 4
  },
  {
   "metadata": {},
   "cell_type": "markdown",
   "source": "### Precalculations",
   "id": "52f138253135a01b"
  },
  {
   "metadata": {},
   "cell_type": "markdown",
   "source": "#### Variance Scheduler",
   "id": "a8b52b3363f0fb8f"
  },
  {
   "metadata": {},
   "cell_type": "code",
   "outputs": [],
   "execution_count": null,
   "source": [
    "def cosine_beta_scheduler(steps, s=0.008):\n",
    "    \"\"\"\n",
    "    cosine schedule as proposed in https://arxiv.org/abs/2102.09672\n",
    "    \"\"\"\n",
    "    steps = steps + 1\n",
    "    x = torch.linspace(0, steps, steps)\n",
    "    alphas_cum_prod = torch.cos(((x / steps) + s) / (1 + s) * torch.pi * 0.5) ** 2\n",
    "    alphas_cum_prod = alphas_cum_prod / alphas_cum_prod[0]\n",
    "    betas = 1 - (alphas_cum_prod[1:] / alphas_cum_prod[:-1])\n",
    "    return torch.clip(betas, 0.0001, 0.9999)"
   ],
   "id": "df9c8aec7a964768"
  },
  {
   "metadata": {
    "ExecuteTime": {
     "end_time": "2024-11-10T22:05:41.205310Z",
     "start_time": "2024-11-10T22:05:40.792233Z"
    }
   },
   "cell_type": "code",
   "source": [
    "betas = torch.linspace(BETA_START, BETA_END, TIME_STEP, device=gpu)  # Linear Variance Scheduler\n",
    "alphas = 1. - betas\n",
    "alphas_cum_prod = torch.cumprod(alphas, 0)\n",
    "alphas_cum_prod_prev = F.pad(alphas_cum_prod[:-1], (1, 0), value=1.0)\n",
    "sqrt_recip_alphas = torch.sqrt(1.0 / alphas)\n",
    "sqrt_alphas_cum_prod = torch.sqrt(alphas_cum_prod)\n",
    "sqrt_one_minus_alphas_cum_prod = torch.sqrt(1. - alphas_cum_prod)\n",
    "posterior_variance = betas * (1. - alphas_cum_prod_prev) / (1. - alphas_cum_prod)"
   ],
   "id": "f541f601c740ff10",
   "outputs": [],
   "execution_count": 5
  },
  {
   "metadata": {},
   "cell_type": "markdown",
   "source": "### Helper functions",
   "id": "b02b34f767d87ab9"
  },
  {
   "metadata": {
    "ExecuteTime": {
     "end_time": "2024-11-10T22:05:43.778311Z",
     "start_time": "2024-11-10T22:05:43.774049Z"
    }
   },
   "cell_type": "code",
   "source": [
    "def extract(equation, timestep, x_shape):\n",
    "    \"\"\"\n",
    "    Extracts the values of the equation for the given timestep for every image in the batch.\n",
    "    \"\"\"\n",
    "    size = timestep.shape[0]\n",
    "    out = equation.gather(-1, timestep.to(gpu))\n",
    "    return out.reshape(size, *((1,) * (len(x_shape) - 1))).to(timestep.device)\n",
    "\n",
    "\n",
    "def q_sample(image_batch, timestep, noise=None):\n",
    "    \"\"\"\n",
    "    Forward pass of the diffusion model.\n",
    "    Adds noise to an image at time t.\n",
    "    If noise is not provided, it is sampled from a standard normal distribution.\n",
    "    \"\"\"\n",
    "    if noise is None:\n",
    "        noise = torch.randn_like(image_batch)\n",
    "\n",
    "    # Extract the values for every image in the batch for the given timestep\n",
    "    sqrt_alphas_cum_prod_t = extract(sqrt_alphas_cum_prod, timestep, image_batch.shape)\n",
    "    sqrt_one_minus_alphas_cum_prod_t = extract(sqrt_one_minus_alphas_cum_prod, timestep, image_batch.shape)\n",
    "\n",
    "    return sqrt_alphas_cum_prod_t * image_batch + sqrt_one_minus_alphas_cum_prod_t * noise\n",
    "\n",
    "\n",
    "@torch.no_grad()\n",
    "def p_sample(model, x, t, t_index):\n",
    "    \"\"\"\n",
    "    Reverse pass of the diffusion model.\n",
    "    Given an image at time t, it predicts the image at time t-1.\n",
    "    \"\"\"\n",
    "    betas_t = extract(betas, t, x.shape)\n",
    "\n",
    "    sqrt_one_minus_alphas_cum_prod_t = extract(\n",
    "        sqrt_one_minus_alphas_cum_prod, t, x.shape\n",
    "    )\n",
    "\n",
    "    sqrt_recip_alphas_t = extract(sqrt_recip_alphas, t, x.shape)\n",
    "\n",
    "    model_mean = sqrt_recip_alphas_t * (x - betas_t * model(x, t) / sqrt_one_minus_alphas_cum_prod_t)\n",
    "\n",
    "    if t_index == 0:\n",
    "        return model_mean\n",
    "    else:\n",
    "        \"\"\"\n",
    "        Helps determine amount of noise to remove from the image.\n",
    "        \"\"\"\n",
    "        posterior_variance_t = extract(posterior_variance, t, x.shape)\n",
    "        noise = torch.randn_like(x)\n",
    "        return model_mean + torch.sqrt(posterior_variance_t) * noise\n",
    "\n",
    "\n",
    "@torch.no_grad()\n",
    "def p_sample_loop(model, shape):\n",
    "    device = gpu\n",
    "    b = shape[0]\n",
    "    img = torch.randn(shape, device=device)  # Random noised image\n",
    "\n",
    "    for i in tqdm(reversed(range(0, TIME_STEP)), desc='Sampling loop time step.', total=TIME_STEP):\n",
    "        img = p_sample(model, img, torch.full((b,), i, device=device, dtype=torch.long), i)\n",
    "\n",
    "    return img\n",
    "\n",
    "\n",
    "def p_losses(denoise_model, x_start, timestep, noise=None, loss_type=\"l1\"):\n",
    "    # If noise is not provided, create noise similar to the input image\n",
    "    if noise is None:\n",
    "        noise = torch.randn_like(x_start)\n",
    "\n",
    "    # Input image with the random noise and the timestep\n",
    "    x_noisy = q_sample(x_start, timestep, noise)\n",
    "\n",
    "    # Feed the noisy image to the denoise model to predict the noise\n",
    "    predicted_noise = denoise_model(x_noisy, timestep)\n",
    "\n",
    "    # Calculate the loss between the predicted noise and the actual noise\n",
    "    if loss_type == 'l1':\n",
    "        model_loss = F.l1_loss(noise, predicted_noise)\n",
    "    elif loss_type == 'l2':\n",
    "        model_loss = F.mse_loss(noise, predicted_noise)\n",
    "    elif loss_type == \"huber\":\n",
    "        model_loss = F.smooth_l1_loss(noise, predicted_noise)\n",
    "    else:\n",
    "        raise NotImplementedError()\n",
    "\n",
    "    return model_loss\n"
   ],
   "id": "48ec7d015a4da8d",
   "outputs": [],
   "execution_count": 6
  },
  {
   "metadata": {},
   "cell_type": "markdown",
   "source": [
    "### Sinusoidal Positional Embedding\n",
    "As parameter of neural network are \n",
    "shared across time one should employ \n",
    "a sinusoidal embedding to encode the position of the input. \n",
    "Makes the neural network know which timestep it is at."
   ],
   "id": "a81d9d6903c0e1b2"
  },
  {
   "metadata": {
    "ExecuteTime": {
     "end_time": "2024-11-10T22:05:43.784604Z",
     "start_time": "2024-11-10T22:05:43.782496Z"
    }
   },
   "cell_type": "code",
   "source": [
    "class SinusoidalPositionalEmbedding(nn.Module):\n",
    "    def __init__(self, embedding_dim):\n",
    "        super(SinusoidalPositionalEmbedding, self).__init__()\n",
    "        self.embedding_dim = embedding_dim\n",
    "\n",
    "    def forward(self, t):\n",
    "        # Create a sinusoidal embedding for each position in time\n",
    "        half_dim = self.embedding_dim // 2\n",
    "        emb = math.log(10000) / (half_dim - 1)\n",
    "        emb = torch.exp(torch.arange(half_dim, dtype=torch.float32, device=gpu) * -emb)\n",
    "        emb = t[:, None] * emb[None, :]\n",
    "        emb = torch.cat([torch.sin(emb), torch.cos(emb)], dim=1)\n",
    "        return emb.to(gpu)"
   ],
   "id": "80ce23441f46147b",
   "outputs": [],
   "execution_count": 7
  },
  {
   "metadata": {},
   "cell_type": "markdown",
   "source": [
    "### Convolutional Layer\n",
    "Classes which define the building blocks of the UNet architecture.\n",
    "Consists of double convolutional layers with ReLU activation functions.\n",
    "Also includes a time embedding layer which is added to the output of the first convolutional layer."
   ],
   "id": "c0804446581939b8"
  },
  {
   "metadata": {
    "ExecuteTime": {
     "end_time": "2024-11-10T22:05:44.842766Z",
     "start_time": "2024-11-10T22:05:44.839816Z"
    }
   },
   "cell_type": "code",
   "source": [
    "class Block(nn.Module):\n",
    "    def __init__(self, in_channels, out_channels, time_emb_dim):\n",
    "        super(Block, self).__init__()\n",
    "\n",
    "        self.time_mlp = nn.Sequential(\n",
    "            SinusoidalPositionalEmbedding(time_emb_dim),\n",
    "            nn.Linear(time_emb_dim, out_channels),\n",
    "            nn.ReLU(inplace=True)\n",
    "        )\n",
    "\n",
    "        self.conv1 = nn.Conv2d(in_channels, out_channels, kernel_size=3, padding=1)\n",
    "        self.conv2 = nn.Conv2d(out_channels, out_channels, kernel_size=3, padding=1)\n",
    "        self.relu = nn.ReLU(inplace=True)\n",
    "\n",
    "    def forward(self, x, t):\n",
    "        # First convolution\n",
    "        h = self.relu(self.conv1(x))\n",
    "\n",
    "        # Compute time embedding and reshape to match spatial dimensions\n",
    "        time_emb = self.time_mlp(t)\n",
    "        time_emb = time_emb[(...,) + (None,) * 2]  # Shape (batch, channels, 1, 1)\n",
    "\n",
    "        # Add time embedding\n",
    "        h = h + time_emb\n",
    "\n",
    "        # Second convolution\n",
    "        h = self.relu(self.conv2(h))\n",
    "        return h"
   ],
   "id": "4fc67c307e5c487a",
   "outputs": [],
   "execution_count": 8
  },
  {
   "metadata": {},
   "cell_type": "markdown",
   "source": [
    "### U-net\n",
    "The UNet architecture for approximating the means of the posterior distribution.\n",
    "The architecture consists of a contracting path, a bottleneck, and an expanding path."
   ],
   "id": "747cdf4ad9e20cba"
  },
  {
   "metadata": {
    "ExecuteTime": {
     "end_time": "2024-11-10T22:05:45.906755Z",
     "start_time": "2024-11-10T22:05:45.903067Z"
    }
   },
   "cell_type": "code",
   "source": [
    "class UNet(nn.Module):\n",
    "    def __init__(self):\n",
    "        super(UNet, self).__init__()\n",
    "\n",
    "        self.time_emb_dim = 32\n",
    "        self.max_pool = nn.MaxPool2d(2, 2)\n",
    "\n",
    "        # Contracting path\n",
    "        self.encoder1 = Block(1, 64, self.time_emb_dim)\n",
    "        self.encoder2 = Block(64, 128, self.time_emb_dim)\n",
    "\n",
    "        # Bottleneck\n",
    "        self.bottleneck = Block(128, 256, self.time_emb_dim)\n",
    "\n",
    "        # Expanding path\n",
    "        self.up_convolution_3 = nn.ConvTranspose2d(256, 128, kernel_size=2,\n",
    "                                                   stride=2)\n",
    "        self.up_convolution_4 = nn.ConvTranspose2d(128, 64, kernel_size=2,\n",
    "                                                   stride=2)\n",
    "\n",
    "        self.decoder3 = Block(256, 128, self.time_emb_dim)\n",
    "        self.decoder4 = Block(128, 64, self.time_emb_dim)\n",
    "\n",
    "        self.output_layer = nn.Conv2d(64, 1, kernel_size=1)\n",
    "\n",
    "    def forward(self, x, t):\n",
    "        # Contracting path\n",
    "        enc1_out = self.encoder1(x, t)\n",
    "        pool_enc1_out = self.max_pool(enc1_out)\n",
    "\n",
    "        enc2_out = self.encoder2(pool_enc1_out, t)\n",
    "        pool_enc2_out = self.max_pool(enc2_out)\n",
    "\n",
    "        # Bottleneck\n",
    "        bottle_out = self.bottleneck(pool_enc2_out, t)\n",
    "\n",
    "        # Expanding path\n",
    "        up_conv_3_out = self.up_convolution_3(bottle_out)\n",
    "        crop_up_conv_3_out = crop_tensor(enc2_out, up_conv_3_out)\n",
    "        dec3_out = self.decoder3(\n",
    "            torch.cat([up_conv_3_out, crop_up_conv_3_out], dim=1), t)\n",
    "\n",
    "        up_conv_4_out = self.up_convolution_4(dec3_out)\n",
    "        crop_up_conv_4_out = crop_tensor(enc1_out, up_conv_4_out)\n",
    "        dec4_out = self.decoder4(\n",
    "            torch.cat([up_conv_4_out, crop_up_conv_4_out], dim=1), t)\n",
    "\n",
    "        output = self.output_layer(dec4_out)\n",
    "\n",
    "        return output\n",
    "\n",
    "\n",
    "def crop_tensor(tensor, target_tensor):\n",
    "    \"\"\"Make the tensor the same size as the target tensor by cropping.\"\"\"\n",
    "    target_size = target_tensor.size()[2:]\n",
    "    tensor_size = tensor.size()[2:]\n",
    "    delta_h = (tensor_size[0] - target_size[0]) // 2\n",
    "    delta_w = (tensor_size[1] - target_size[1]) // 2\n",
    "    return tensor[:, :, delta_h:tensor_size[0] - delta_h,\n",
    "           delta_w:tensor_size[1] - delta_w]"
   ],
   "id": "fd6ec495e119642d",
   "outputs": [],
   "execution_count": 9
  },
  {
   "metadata": {},
   "cell_type": "markdown",
   "source": "### Load data",
   "id": "fd4a00b46673a8a6"
  },
  {
   "metadata": {
    "ExecuteTime": {
     "end_time": "2024-11-10T22:05:53.812493Z",
     "start_time": "2024-11-10T22:05:46.967222Z"
    }
   },
   "cell_type": "code",
   "source": [
    "image_size = 28\n",
    "channels = 1  # Grey scale\n",
    "\n",
    "transform = transforms.Compose(\n",
    "    [transforms.RandomHorizontalFlip(), # Said in paper to help with training\n",
    "     transforms.ToTensor(),\n",
    "     transforms.Lambda(lambda x: (x * 2) - 1), # Normalize to [-1, 1]\n",
    "     ]\n",
    ")\n",
    "\n",
    "mnist = MNIST(root='.', train=True, download=True, transform=transform)\n",
    "\n",
    "class DatasetWrapper(Dataset):\n",
    "    def __init__(self, dataset):\n",
    "        self.dataset = dataset\n",
    "\n",
    "    def __len__(self):\n",
    "        return len(self.dataset)\n",
    "\n",
    "    def __getitem__(self, idx):\n",
    "        image, _ = self.dataset[idx]  # Ignore the label\n",
    "        return image\n",
    "\n",
    "dataloader = DataLoader(DatasetWrapper(mnist), batch_size=BATCH_SIZE, shuffle=True)"
   ],
   "id": "bc9558cdca3c860f",
   "outputs": [
    {
     "name": "stdout",
     "output_type": "stream",
     "text": [
      "Downloading http://yann.lecun.com/exdb/mnist/train-images-idx3-ubyte.gz\n",
      "Failed to download (trying next):\n",
      "<urlopen error [SSL: CERTIFICATE_VERIFY_FAILED] certificate verify failed: certificate has expired (_ssl.c:1000)>\n",
      "\n",
      "Downloading https://ossci-datasets.s3.amazonaws.com/mnist/train-images-idx3-ubyte.gz\n",
      "Downloading https://ossci-datasets.s3.amazonaws.com/mnist/train-images-idx3-ubyte.gz to ./MNIST/raw/train-images-idx3-ubyte.gz\n"
     ]
    },
    {
     "name": "stderr",
     "output_type": "stream",
     "text": [
      "100%|██████████| 9.91M/9.91M [00:01<00:00, 8.91MB/s]\n"
     ]
    },
    {
     "name": "stdout",
     "output_type": "stream",
     "text": [
      "Extracting ./MNIST/raw/train-images-idx3-ubyte.gz to ./MNIST/raw\n",
      "\n",
      "Downloading http://yann.lecun.com/exdb/mnist/train-labels-idx1-ubyte.gz\n",
      "Failed to download (trying next):\n",
      "<urlopen error [SSL: CERTIFICATE_VERIFY_FAILED] certificate verify failed: certificate has expired (_ssl.c:1000)>\n",
      "\n",
      "Downloading https://ossci-datasets.s3.amazonaws.com/mnist/train-labels-idx1-ubyte.gz\n",
      "Downloading https://ossci-datasets.s3.amazonaws.com/mnist/train-labels-idx1-ubyte.gz to ./MNIST/raw/train-labels-idx1-ubyte.gz\n"
     ]
    },
    {
     "name": "stderr",
     "output_type": "stream",
     "text": [
      "100%|██████████| 28.9k/28.9k [00:00<00:00, 284kB/s]\n"
     ]
    },
    {
     "name": "stdout",
     "output_type": "stream",
     "text": [
      "Extracting ./MNIST/raw/train-labels-idx1-ubyte.gz to ./MNIST/raw\n",
      "\n",
      "Downloading http://yann.lecun.com/exdb/mnist/t10k-images-idx3-ubyte.gz\n",
      "Failed to download (trying next):\n",
      "<urlopen error [SSL: CERTIFICATE_VERIFY_FAILED] certificate verify failed: certificate has expired (_ssl.c:1000)>\n",
      "\n",
      "Downloading https://ossci-datasets.s3.amazonaws.com/mnist/t10k-images-idx3-ubyte.gz\n",
      "Downloading https://ossci-datasets.s3.amazonaws.com/mnist/t10k-images-idx3-ubyte.gz to ./MNIST/raw/t10k-images-idx3-ubyte.gz\n"
     ]
    },
    {
     "name": "stderr",
     "output_type": "stream",
     "text": [
      "100%|██████████| 1.65M/1.65M [00:00<00:00, 3.08MB/s]\n"
     ]
    },
    {
     "name": "stdout",
     "output_type": "stream",
     "text": [
      "Extracting ./MNIST/raw/t10k-images-idx3-ubyte.gz to ./MNIST/raw\n",
      "\n",
      "Downloading http://yann.lecun.com/exdb/mnist/t10k-labels-idx1-ubyte.gz\n",
      "Failed to download (trying next):\n",
      "<urlopen error [SSL: CERTIFICATE_VERIFY_FAILED] certificate verify failed: certificate has expired (_ssl.c:1000)>\n",
      "\n",
      "Downloading https://ossci-datasets.s3.amazonaws.com/mnist/t10k-labels-idx1-ubyte.gz\n",
      "Downloading https://ossci-datasets.s3.amazonaws.com/mnist/t10k-labels-idx1-ubyte.gz to ./MNIST/raw/t10k-labels-idx1-ubyte.gz\n"
     ]
    },
    {
     "name": "stderr",
     "output_type": "stream",
     "text": [
      "100%|██████████| 4.54k/4.54k [00:00<00:00, 6.37MB/s]"
     ]
    },
    {
     "name": "stdout",
     "output_type": "stream",
     "text": [
      "Extracting ./MNIST/raw/t10k-labels-idx1-ubyte.gz to ./MNIST/raw\n",
      "\n"
     ]
    },
    {
     "name": "stderr",
     "output_type": "stream",
     "text": [
      "\n"
     ]
    }
   ],
   "execution_count": 10
  },
  {
   "metadata": {},
   "cell_type": "markdown",
   "source": "### Training model\n",
   "id": "e60154cf4fa8d6b"
  },
  {
   "metadata": {
    "ExecuteTime": {
     "end_time": "2024-11-10T22:28:28.323451Z",
     "start_time": "2024-11-10T22:05:54.927807Z"
    }
   },
   "cell_type": "code",
   "source": [
    "# Train model\n",
    "model = UNet().to(gpu)\n",
    "optimizer = torch.optim.Adam(model.parameters(), lr=LEARNING_RATE)\n",
    "\n",
    "with tqdm(range(0, EPOCH_NUM), desc=\"Epochs\", total=EPOCH_NUM) as epoch_progress:\n",
    "    for epoch in epoch_progress:\n",
    "        for step, batch in enumerate(dataloader):  # Iterate over every batch in the dataloader\n",
    "            optimizer.zero_grad()\n",
    "\n",
    "            # Get the batch size and move the batch to the device\n",
    "            batch_size = batch.shape[0]\n",
    "            batch = batch.to(gpu)\n",
    "\n",
    "            # Algorithm 1 line 3: sample t uniformly for every example in the batch\n",
    "            t = torch.randint(0, TIME_STEP, (batch_size,), device=gpu).long()\n",
    "\n",
    "            loss = p_losses(model, batch, t)\n",
    "\n",
    "            # If the step is a multiple of 100, print the loss\n",
    "            if step % 100 == 0:\n",
    "                epoch_progress.set_postfix(loss=loss.item())\n",
    "\n",
    "            # Algorithm 1 line 5: backpropagate the loss\n",
    "            loss.backward()\n",
    "\n",
    "            # Algorithm 1 line 6: update the weights\n",
    "            optimizer.step()"
   ],
   "id": "d4739cfd2ad3f465",
   "outputs": [
    {
     "name": "stderr",
     "output_type": "stream",
     "text": [
      "Epochs: 100%|██████████| 30/30 [22:33<00:00, 45.11s/it, loss=0.0544]\n"
     ]
    }
   ],
   "execution_count": 11
  },
  {
   "metadata": {},
   "cell_type": "markdown",
   "source": "### Generate images",
   "id": "2f27345b2119b5bd"
  },
  {
   "metadata": {
    "ExecuteTime": {
     "end_time": "2024-11-10T22:28:37.348546Z",
     "start_time": "2024-11-10T22:28:31.053854Z"
    }
   },
   "cell_type": "code",
   "source": [
    "samples = p_sample_loop(model, shape=(BATCH_SIZE, channels, image_size, image_size))\n",
    "\n",
    "plt.figure(figsize=(10, 10))\n",
    "plt.axis(\"off\")\n",
    "\n",
    "plt.imshow(torchvision.utils.make_grid(samples, nrow=8).cpu().detach().numpy()[0], cmap='gray')"
   ],
   "id": "96735a11f4a09034",
   "outputs": [
    {
     "name": "stderr",
     "output_type": "stream",
     "text": [
      "Sampling loop time step.: 100%|██████████| 1000/1000 [00:06<00:00, 165.39it/s]\n"
     ]
    },
    {
     "data": {
      "text/plain": [
       "<matplotlib.image.AxesImage at 0x15f3a68d0>"
      ]
     },
     "execution_count": 12,
     "metadata": {},
     "output_type": "execute_result"
    },
    {
     "data": {
      "text/plain": [
       "<Figure size 1000x1000 with 1 Axes>"
      ],
      "image/png": "[encoded data removed]"
     },
     "metadata": {},
     "output_type": "display_data"
    }
   ],
   "execution_count": 12
  },
  {
   "metadata": {
    "ExecuteTime": {
     "end_time": "2024-11-10T23:14:24.375954Z",
     "start_time": "2024-11-10T22:58:53.371528Z"
    }
   },
   "cell_type": "code",
   "source": [
    "import os\n",
    "import torch\n",
    "import torchvision.transforms as T\n",
    "\n",
    "amount = 5000\n",
    "samples = p_sample_loop(model, shape=(amount, channels, image_size, image_size))\n",
    "path = \"./generated_images\"\n",
    "os.makedirs(path, exist_ok=True)\n",
    "\n",
    "transform = T.ToPILImage(mode=\"L\")\n",
    "\n",
    "def save_tensor_as_image(tensor, filename=\"./generated_images\"):\n",
    "    tensor = torch.clamp(tensor, 0, 1)\n",
    "    for i, tensor in enumerate(tensor):\n",
    "        img = transform(tensor)\n",
    "        img.save(os.path.join(path, f\"{filename}{i}.png\"))\n",
    "\n",
    "\n",
    "save_tensor_as_image(samples, \"sample\")"
   ],
   "id": "89ccbf5c0712799e",
   "outputs": [
    {
     "name": "stderr",
     "output_type": "stream",
     "text": [
      "Sampling loop time step.: 100%|██████████| 1000/1000 [15:27<00:00,  1.08it/s]\n"
     ]
    }
   ],
   "execution_count": 14
  }
 ],
 "metadata": {
  "kernelspec": {
   "display_name": "Python 3",
   "language": "python",
   "name": "python3"
  },
  "language_info": {
   "codemirror_mode": {
    "name": "ipython",
    "version": 2
   },
   "file_extension": ".py",
   "mimetype": "text/x-python",
   "name": "python",
   "nbconvert_exporter": "python",
   "pygments_lexer": "ipython2",
   "version": "2.7.6"
  }
 },
 "nbformat": 4,
 "nbformat_minor": 5
}
