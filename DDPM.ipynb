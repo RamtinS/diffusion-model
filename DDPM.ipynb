{
 "cells": [
  {
   "cell_type": "code",
   "id": "15a99365a254056c",
   "metadata": {
    "ExecuteTime": {
     "end_time": "2024-11-14T12:42:28.895463Z",
     "start_time": "2024-11-14T12:42:28.884844Z"
    }
   },
   "source": [
    "import math\n",
    "import random\n",
    "import ssl\n",
    "import urllib.request\n",
    "import evaluator\n",
    "import os\n",
    "import torch\n",
    "import torchvision.transforms as transforms\n",
    "import importlib\n",
    "import plot_utility\n",
    "import deviceUtility\n",
    "import certifi\n",
    "import torch.nn as nn\n",
    "import torch.nn.functional as functional\n",
    "\n",
    "from torch.utils.data import DataLoader\n",
    "from torchvision.datasets import MNIST\n",
    "from tqdm import tqdm\n",
    "from tqdm.auto import tqdm\n"
   ],
   "outputs": [],
   "execution_count": 60
  },
  {
   "metadata": {
    "ExecuteTime": {
     "end_time": "2024-11-14T12:42:28.909320Z",
     "start_time": "2024-11-14T12:42:28.901420Z"
    }
   },
   "cell_type": "code",
   "source": [
    "# Fix SSL certificate issue\n",
    "ssl_context = ssl.create_default_context(cafile=certifi.where())\n",
    "urllib.request.install_opener(urllib.request.build_opener(urllib.request.HTTPSHandler(context=ssl_context)))"
   ],
   "id": "ce57f609b1f71f1",
   "outputs": [],
   "execution_count": 61
  },
  {
   "metadata": {
    "collapsed": true,
    "ExecuteTime": {
     "end_time": "2024-11-14T12:42:31.364704Z",
     "start_time": "2024-11-14T12:42:31.362294Z"
    }
   },
   "cell_type": "code",
   "source": "gpu = deviceUtility.get_best_available_device()",
   "id": "initial_id",
   "outputs": [
    {
     "name": "stdout",
     "output_type": "stream",
     "text": [
      "________________________\n",
      "\u001B[94m\n",
      "Device manager:\n",
      "Running on device: mps\u001B[0m\n",
      "________________________\n"
     ]
    }
   ],
   "execution_count": 62
  },
  {
   "metadata": {},
   "cell_type": "markdown",
   "source": [
    "### Hyperparameters"
   ],
   "id": "f867e93ca3b4f5bf"
  },
  {
   "metadata": {
    "ExecuteTime": {
     "end_time": "2024-11-14T12:42:33.382182Z",
     "start_time": "2024-11-14T12:42:33.379872Z"
    }
   },
   "cell_type": "code",
   "source": [
    "TIME_STEP = 1000\n",
    "EPOCH_NUM = 20\n",
    "LEARNING_RATE = 1e-4\n",
    "\n",
    "BETA_START = 1e-4\n",
    "BETA_END = 0.02\n",
    "\n",
    "BATCH_SIZE = 32\n",
    "\n",
    "GUIDANCE_PROBABILITY = 0.5\n",
    "GUIDANCE_WEIGHT = 0.2\n",
    "\n",
    "SCHEDULER = \"linear\" #either 'linear' or 'cosine'\n"
   ],
   "id": "d4926b587a5574c6",
   "outputs": [],
   "execution_count": 63
  },
  {
   "metadata": {},
   "cell_type": "markdown",
   "source": [
    "### Precalculations"
   ],
   "id": "52f138253135a01b"
  },
  {
   "metadata": {
    "ExecuteTime": {
     "end_time": "2024-11-14T12:42:35.491290Z",
     "start_time": "2024-11-14T12:42:35.487609Z"
    }
   },
   "cell_type": "code",
   "source": [
    "def cosine_beta_scheduler(steps, s=0.008):\n",
    "    \"\"\"\n",
    "    cosine scheduler as proposed in https://arxiv.org/abs/2102.09672\n",
    "    \"\"\"\n",
    "    steps = steps + 1\n",
    "    x = torch.linspace(0, steps, steps, device=gpu)\n",
    "    alphas_cumulative_prod = torch.cos(((x / steps) + s) / (1 + s) * torch.pi * 0.5) ** 2\n",
    "    alphas_cumulative_prod = alphas_cumulative_prod / alphas_cumulative_prod[0]\n",
    "    beta_values = 1 - (alphas_cumulative_prod[1:] / alphas_cumulative_prod[:-1])\n",
    "    \n",
    "    beta_min, beta_max = 0.0001, 0.9999\n",
    "    return torch.clip(beta_values, beta_min, beta_max)\n",
    "\n",
    "def get_betas(scheduler_name):\n",
    "    \"\"\"Returns a beta schedule based on the name of the scheduler, either 'linear' or 'cosine'\"\"\"\n",
    "    if scheduler_name == \"linear\":\n",
    "        return torch.linspace(BETA_START, BETA_END, TIME_STEP, device=gpu)\n",
    "    elif scheduler_name == \"cosine\":\n",
    "        return cosine_beta_scheduler(TIME_STEP)\n",
    "    else:\n",
    "        raise NotImplementedError()\n",
    "        "
   ],
   "id": "df9c8aec7a964768",
   "outputs": [],
   "execution_count": 64
  },
  {
   "metadata": {
    "ExecuteTime": {
     "end_time": "2024-11-14T12:42:37.589075Z",
     "start_time": "2024-11-14T12:42:37.584650Z"
    }
   },
   "cell_type": "code",
   "source": [
    "betas = get_betas(SCHEDULER) \n",
    "alphas = 1. - betas\n",
    "alphas_cum_prod = torch.cumprod(alphas, 0)\n",
    "alphas_cum_prod_prev = functional.pad(alphas_cum_prod[:-1], (1, 0), value=1.0)\n",
    "sqrt_recip_alphas = torch.sqrt(1.0 / alphas)\n",
    "sqrt_alphas_cum_prod = torch.sqrt(alphas_cum_prod)\n",
    "sqrt_one_minus_alphas_cum_prod = torch.sqrt(1. - alphas_cum_prod)\n",
    "posterior_variance = betas * (1. - alphas_cum_prod_prev) / (1. - alphas_cum_prod)"
   ],
   "id": "f541f601c740ff10",
   "outputs": [],
   "execution_count": 65
  },
  {
   "metadata": {},
   "cell_type": "markdown",
   "source": [
    "### Helper functions"
   ],
   "id": "b02b34f767d87ab9"
  },
  {
   "metadata": {
    "ExecuteTime": {
     "end_time": "2024-11-14T12:42:39.762278Z",
     "start_time": "2024-11-14T12:42:39.755233Z"
    }
   },
   "cell_type": "code",
   "source": [
    "def extract(equation, timestep, x_shape):\n",
    "    \"\"\"\n",
    "    Extracts the values of the equation for the given timestep for every image in the batch.\n",
    "    \"\"\"\n",
    "    size = timestep.shape[0]\n",
    "    out = equation.gather(-1, timestep.to(gpu))\n",
    "    return out.reshape(size, *((1,) * (len(x_shape) - 1))).to(timestep.device)\n",
    "\n",
    "\n",
    "def q_sample(image_batch, timestep, noise=None):\n",
    "    \"\"\"\n",
    "    Forward pass of the diffusion model.\n",
    "    Adds noise to an image at time t.\n",
    "    If noise is not provided, it is sampled from a standard normal distribution.\n",
    "    \"\"\"\n",
    "    if noise is None:\n",
    "        noise = torch.randn_like(image_batch)\n",
    "\n",
    "    # Extract the values for every image in the batch for the given timestep\n",
    "    sqrt_alphas_cum_prod_t = extract(sqrt_alphas_cum_prod, timestep, image_batch.shape)\n",
    "    sqrt_one_minus_alphas_cum_prod_t = extract(sqrt_one_minus_alphas_cum_prod, timestep, image_batch.shape)\n",
    "\n",
    "    return sqrt_alphas_cum_prod_t * image_batch + sqrt_one_minus_alphas_cum_prod_t * noise\n",
    "\n",
    "\n",
    "@torch.no_grad()\n",
    "def p_sample(model, x, t, t_index, condition):\n",
    "    \"\"\"\n",
    "    Reverse pass of the diffusion model.\n",
    "    Given an image at time t, it predicts the image at time t-1.\n",
    "    \"\"\"\n",
    "    condition = condition.to(gpu)\n",
    "    betas_t = extract(betas, t, x.shape)\n",
    "\n",
    "    sqrt_one_minus_alphas_cum_prod_t = extract(\n",
    "        sqrt_one_minus_alphas_cum_prod, t, x.shape\n",
    "    )\n",
    "\n",
    "    sqrt_recip_alphas_t = extract(sqrt_recip_alphas, t, x.shape)\n",
    "\n",
    "    model_mean_unconditional = sqrt_recip_alphas_t * (x - betas_t * model(x, t) / sqrt_one_minus_alphas_cum_prod_t)\n",
    "\n",
    "    model_mean_conditional = sqrt_recip_alphas_t * (\n",
    "            x - betas_t * model(x, t, condition) / sqrt_one_minus_alphas_cum_prod_t)\n",
    "    model_mean_guided = (1 + GUIDANCE_WEIGHT) * model_mean_conditional - GUIDANCE_WEIGHT * model_mean_unconditional\n",
    "\n",
    "    if t_index == 0:\n",
    "        return model_mean_guided\n",
    "    else:\n",
    "        # Helps determine the amount of noise to remove from the image.\n",
    "        posterior_variance_t = extract(posterior_variance, t, x.shape)\n",
    "        noise = torch.randn_like(x)\n",
    "        return model_mean_guided + torch.sqrt(posterior_variance_t) * noise\n",
    "\n",
    "\n",
    "@torch.no_grad()\n",
    "def p_sample_loop(model,*, shape, conditionals, disable_tqdm = False):\n",
    "    device = gpu\n",
    "    b = shape[0]\n",
    "    conditionals.to(gpu)\n",
    "    img = torch.randn(shape, device=device)  # Random noised image\n",
    "\n",
    "    for i in tqdm(reversed(range(0, TIME_STEP)), desc='Sampling loop time step.', total=TIME_STEP, disable=disable_tqdm):\n",
    "        img = p_sample(model=model, x=img, t=torch.full((b,), i, device=device, dtype=torch.long), t_index=i,\n",
    "                       condition=conditionals)\n",
    "    return img\n",
    "\n",
    "\n",
    "def p_losses(denoise_model, x_start, timestep, conditionals):\n",
    "\n",
    "    noise = torch.randn_like(x_start)\n",
    "\n",
    "    # Input image with the random noise and the timestep\n",
    "    x_noisy = q_sample(x_start, timestep, noise)\n",
    "\n",
    "    # Feed the noisy image to the denoise model to predict the noise\n",
    "    predicted_noise = denoise_model(x_noisy, timestep, conditionals)\n",
    "\n",
    "    model_loss = functional.l1_loss(noise, predicted_noise)\n",
    "    #model_loss = functional.mse_loss(noise, predicted_noise)\n",
    "    return model_loss\n"
   ],
   "id": "48ec7d015a4da8d",
   "outputs": [],
   "execution_count": 66
  },
  {
   "metadata": {},
   "cell_type": "markdown",
   "source": [
    "### Sinusoidal Positional Embedding\n",
    "As parameter of neural network are \n",
    "shared across time one should employ \n",
    "a sinusoidal embedding to encode the position of the input. \n",
    "Makes the neural network know which timestep it is at."
   ],
   "id": "a81d9d6903c0e1b2"
  },
  {
   "metadata": {
    "ExecuteTime": {
     "end_time": "2024-11-14T12:42:41.853555Z",
     "start_time": "2024-11-14T12:42:41.850632Z"
    }
   },
   "cell_type": "code",
   "source": [
    "class SinusoidalPositionalEmbedding(nn.Module):\n",
    "    def __init__(self, embedding_dim):\n",
    "        super(SinusoidalPositionalEmbedding, self).__init__()\n",
    "        self.embedding_dim = embedding_dim\n",
    "\n",
    "    def forward(self, t):\n",
    "        # Create a sinusoidal embedding for each position in time\n",
    "        half_dim = self.embedding_dim // 2\n",
    "        emb = math.log(10000) / (half_dim - 1)\n",
    "        emb = torch.exp(torch.arange(half_dim, dtype=torch.float32, device=gpu) * -emb)\n",
    "        emb = t[:, None] * emb[None, :]\n",
    "        emb = torch.cat([torch.sin(emb), torch.cos(emb)], dim=1)\n",
    "        return emb.to(gpu)"
   ],
   "id": "80ce23441f46147b",
   "outputs": [],
   "execution_count": 67
  },
  {
   "metadata": {},
   "cell_type": "markdown",
   "source": [
    "### Convolutional Layer\n",
    "Classes which define the building blocks of the UNet architecture.\n",
    "Consists of double convolutional layers with ReLU activation functions.\n",
    "Also includes a time embedding layer which is added to the output of the first convolutional layer."
   ],
   "id": "c0804446581939b8"
  },
  {
   "metadata": {
    "ExecuteTime": {
     "end_time": "2024-11-14T12:42:44.004115Z",
     "start_time": "2024-11-14T12:42:44.000108Z"
    }
   },
   "cell_type": "code",
   "source": [
    "class Block(nn.Module):\n",
    "    def __init__(self, in_channels, out_channels, time_emb_dim):\n",
    "        super(Block, self).__init__()\n",
    "\n",
    "        self.time_mlp = nn.Sequential(\n",
    "            SinusoidalPositionalEmbedding(time_emb_dim),\n",
    "            nn.Linear(time_emb_dim, out_channels),\n",
    "            nn.ReLU(inplace=True)\n",
    "        )\n",
    "\n",
    "        self.condition_emb = nn.Sequential(\n",
    "            nn.Linear(num_classes, out_channels),\n",
    "            nn.ReLU(inplace=True)\n",
    "        )\n",
    "\n",
    "        self.conv1 = nn.Conv2d(in_channels, out_channels, kernel_size=3, padding=1)\n",
    "        self.conv2 = nn.Conv2d(out_channels, out_channels, kernel_size=3, padding=1)\n",
    "        self.relu = nn.ReLU(inplace=True)\n",
    "\n",
    "    def forward(self, x, t, c=None):\n",
    "        # First convolution\n",
    "        h = self.relu(self.conv1(x))\n",
    "\n",
    "        # Compute time embedding and reshape to match spatial dimensions\n",
    "        time_emb = self.time_mlp(t)\n",
    "        time_emb = time_emb[(...,) + (None,) * 2]  # Shape (batch, channels, 1, 1)\n",
    "\n",
    "        # Add time embedding.\n",
    "        h = h + time_emb\n",
    "\n",
    "        if isinstance(c, torch.Tensor):\n",
    "            class_embedding = self.condition_emb(c).to(gpu)\n",
    "            class_embedding = class_embedding[(...,) + (None,) * 2]  # Shape (batch, channels, 1, 1)\n",
    "            h = h + class_embedding\n",
    "\n",
    "        # Second convolution.\n",
    "        h = self.relu(self.conv2(h))\n",
    "        return h"
   ],
   "id": "4fc67c307e5c487a",
   "outputs": [],
   "execution_count": 68
  },
  {
   "metadata": {},
   "cell_type": "markdown",
   "source": [
    "### U-net\n",
    "The UNet architecture for approximating the means of the posterior distribution.\n",
    "The architecture consists of a contracting path, a bottleneck, and an expanding path."
   ],
   "id": "747cdf4ad9e20cba"
  },
  {
   "metadata": {
    "ExecuteTime": {
     "end_time": "2024-11-14T12:42:46.047999Z",
     "start_time": "2024-11-14T12:42:46.042558Z"
    }
   },
   "cell_type": "code",
   "source": [
    "class UNet(nn.Module):\n",
    "    def __init__(self):\n",
    "        super(UNet, self).__init__()\n",
    "\n",
    "        self.time_emb_dim = 32\n",
    "        self.max_pool = nn.MaxPool2d(2, 2)\n",
    "\n",
    "        # Contracting path.\n",
    "        self.encoder1 = Block(1, 64, self.time_emb_dim)\n",
    "        self.encoder2 = Block(64, 128, self.time_emb_dim)\n",
    "\n",
    "        # Bottleneck: The crossing between contracting and expanding.\n",
    "        self.bottleneck = Block(128, 256, self.time_emb_dim)\n",
    "\n",
    "        # Expanding path.\n",
    "        self.up_convolution_1 = nn.ConvTranspose2d(256, 128, kernel_size=2, stride=2)\n",
    "        self.up_convolution_2 = nn.ConvTranspose2d(128, 64, kernel_size=2, stride=2)\n",
    "\n",
    "        self.decoder1 = Block(256, 128, self.time_emb_dim)\n",
    "        self.decoder2 = Block(128, 64, self.time_emb_dim)\n",
    "\n",
    "        self.output_layer = nn.Conv2d(64, 1, kernel_size=1)\n",
    "\n",
    "    def forward(self, x, t, c=None):\n",
    "        # Contracting path.\n",
    "        enc1_out = self.encoder1(x, t, c)\n",
    "        pool_enc1_out = self.max_pool(enc1_out)\n",
    "\n",
    "        enc2_out = self.encoder2(pool_enc1_out, t, c)\n",
    "        pool_enc2_out = self.max_pool(enc2_out)\n",
    "\n",
    "        # Bottleneck\n",
    "        bottle_out = self.bottleneck(pool_enc2_out, t, c)\n",
    "\n",
    "        # Expanding path.\n",
    "        up_conv_1_out = self.up_convolution_1(bottle_out)\n",
    "        crop_up_conv_1_out = crop_tensor(enc2_out, up_conv_1_out)\n",
    "        dec1_out = self.decoder1(torch.cat([up_conv_1_out, crop_up_conv_1_out], dim=1), t, c)\n",
    "\n",
    "        up_conv_2_out = self.up_convolution_2(dec1_out)\n",
    "        crop_up_conv_2_out = crop_tensor(enc1_out, up_conv_2_out)\n",
    "        dec2_out = self.decoder2(torch.cat([up_conv_2_out, crop_up_conv_2_out], dim=1), t, c)\n",
    "\n",
    "        output = self.output_layer(dec2_out)\n",
    "\n",
    "        return output\n",
    "\n",
    "def crop_tensor(tensor, target_tensor):\n",
    "    \"\"\"Make the tensor the same size as the target tensor by cropping.\"\"\"\n",
    "    target_size = target_tensor.size()[2:]\n",
    "    tensor_size = tensor.size()[2:]\n",
    "    delta_h = (tensor_size[0] - target_size[0]) // 2\n",
    "    delta_w = (tensor_size[1] - target_size[1]) // 2\n",
    "    return tensor[:, :, delta_h:tensor_size[0] - delta_h,\n",
    "           delta_w:tensor_size[1] - delta_w]"
   ],
   "id": "fd6ec495e119642d",
   "outputs": [],
   "execution_count": 69
  },
  {
   "metadata": {},
   "cell_type": "markdown",
   "source": [
    "### Load data"
   ],
   "id": "fd4a00b46673a8a6"
  },
  {
   "metadata": {
    "ExecuteTime": {
     "end_time": "2024-11-14T12:42:48.214692Z",
     "start_time": "2024-11-14T12:42:48.178779Z"
    }
   },
   "cell_type": "code",
   "source": [
    "image_size = 28 # Length and width of the images\n",
    "channels = 1  # Grey scale\n",
    "num_classes = 10 # possible classes in the mnist dataset (0-9)\n",
    "mnist_transformation = transforms.Compose(\n",
    "    [\n",
    "        transforms.ToTensor(),\n",
    "        transforms.Lambda(lambda x: (x * 2) - 1),  # Normalize to [-1, 1]\n",
    "    ]\n",
    ")\n",
    "\n",
    "mnist = MNIST(root='.', train=True, download=True, transform=mnist_transformation)\n",
    "\n",
    "dataloader = DataLoader(mnist, batch_size=BATCH_SIZE, shuffle=True, )"
   ],
   "id": "bc9558cdca3c860f",
   "outputs": [],
   "execution_count": 70
  },
  {
   "metadata": {},
   "cell_type": "markdown",
   "source": [
    "### Training model\n"
   ],
   "id": "e60154cf4fa8d6b"
  },
  {
   "metadata": {
    "ExecuteTime": {
     "end_time": "2024-11-14T13:03:00.667991Z",
     "start_time": "2024-11-14T12:42:50.398842Z"
    }
   },
   "cell_type": "code",
   "source": [
    "# Train model\n",
    "diffusion_model = UNet().to(gpu)\n",
    "optimizer = torch.optim.Adam(diffusion_model.parameters(), lr=LEARNING_RATE)\n",
    "\n",
    "with tqdm(range(0, EPOCH_NUM), desc=\"Epochs\", total=EPOCH_NUM) as epoch_progress:\n",
    "    for epoch in epoch_progress:\n",
    "        for step, (batch, class_values) in enumerate(dataloader):  # Iterate over every batch in the dataloader\n",
    "\n",
    "            # Convert the labels to one-hot encoding half of the time. \n",
    "            if random.random() < GUIDANCE_PROBABILITY:\n",
    "                batch_conditionals = nn.functional.one_hot(class_values, num_classes=num_classes).float()\n",
    "            else:\n",
    "                batch_conditionals = torch.zeros_like(nn.functional.one_hot(class_values, num_classes=num_classes).float())\n",
    "            optimizer.zero_grad()\n",
    "\n",
    "            # Get the batch size and move the batch to the device\n",
    "            batch_size = batch.shape[0]\n",
    "            batch = batch.to(gpu)\n",
    "\n",
    "            # Algorithm 1 line 3: sample t uniformly for every example in the batch\n",
    "            t_sample = torch.randint(0, TIME_STEP, (batch_size,), device=gpu).long()\n",
    "            batch_conditionals = batch_conditionals.to(gpu)\n",
    "            loss = p_losses(diffusion_model, batch, t_sample, conditionals=batch_conditionals)\n",
    "\n",
    "            # If the step is a multiple of 100, print the loss\n",
    "            if step % 100 == 0:\n",
    "                epoch_progress.set_postfix(loss=loss.item())\n",
    "\n",
    "            # Algorithm 1 line 5: backpropagate the loss\n",
    "            loss.backward()\n",
    "\n",
    "            # Algorithm 1 line 6: update the weights\n",
    "            optimizer.step()"
   ],
   "id": "d4739cfd2ad3f465",
   "outputs": [
    {
     "name": "stderr",
     "output_type": "stream",
     "text": [
      "Epochs: 100%|██████████| 20/20 [20:10<00:00, 60.51s/it, loss=0.0189]\n"
     ]
    }
   ],
   "execution_count": 71
  },
  {
   "metadata": {},
   "cell_type": "markdown",
   "source": "### Helper functions for generating and images",
   "id": "2f27345b2119b5bd"
  },
  {
   "metadata": {
    "ExecuteTime": {
     "end_time": "2024-11-14T13:03:02.983641Z",
     "start_time": "2024-11-14T13:03:02.978605Z"
    }
   },
   "cell_type": "code",
   "source": [
    "def get_sequential_guidance():\n",
    "    \"\"\"Creates a BATCH_SIZE long tensor with sequential classes\"\"\"\n",
    "    return torch.tensor([i % num_classes for i in range(BATCH_SIZE)])\n",
    "\n",
    "def get_random_guidance():\n",
    "    \"\"\"Creates a BATCH_SIZE long tensor with random ints between 0 (inclusive) and num_classes (exclusive)\"\"\"\n",
    "    return torch.randint(0, num_classes, size=(BATCH_SIZE,))\n",
    "\n",
    "def get_all_same_guidance(numberClass):\n",
    "    \"\"\"Creates a BATCH_SIZE long tensor where all entries are of class 'numberClass'\"\"\"\n",
    "    return torch.ones(BATCH_SIZE, dtype=torch.long) * int(numberClass)\n",
    "\n",
    "def save_tensor_as_image(tensor, path, start_idx=0):\n",
    "    \"\"\"Saves an image tensor as a PIL image\"\"\"\n",
    "    tensor = torch.clamp(tensor, 0, 1)\n",
    "    \n",
    "    transform = transforms.ToPILImage()\n",
    "    for i, img_tensor in enumerate(tensor):\n",
    "        img = transform(img_tensor)\n",
    "        img.save(os.path.join(path, f\"sample{start_idx + i}.png\"))\n",
    "\n",
    "def generate_images(total_images=10000, fid_batch_size=1000):\n",
    "    \"\"\"Generates a 'total_images' images in batches of 'fid_batch_size'\"\"\"\n",
    "    path = \"./generated_images\"\n",
    "    os.makedirs(path, exist_ok=True)\n",
    "\n",
    "    # Generate images in batches\n",
    "    for batch_idx in tqdm(range(0, total_images, fid_batch_size)):\n",
    "        class_labels = torch.tensor([i % 10 for i in range(fid_batch_size)])\n",
    "        class_labels = nn.functional.one_hot(class_labels, num_classes=10).float()\n",
    "        class_labels = class_labels.to(gpu)\n",
    "            \n",
    "        # Generate images\n",
    "        image_batch = p_sample_loop(\n",
    "            diffusion_model,\n",
    "            shape=(batch_size, channels, image_size, image_size),\n",
    "            conditionals=class_labels\n",
    "        )\n",
    "\n",
    "        # Save images with continuous numbering\n",
    "        save_tensor_as_image(image_batch, path, start_idx=batch_idx)\n",
    "\n",
    "        torch.cuda.empty_cache()\n",
    "    "
   ],
   "id": "96735a11f4a09034",
   "outputs": [],
   "execution_count": 72
  },
  {
   "metadata": {},
   "cell_type": "markdown",
   "source": [
    "# Model evaluation"
   ],
   "id": "e346ceab81aaf41c"
  },
  {
   "metadata": {},
   "cell_type": "markdown",
   "source": "### FID (Frechét inception distance)",
   "id": "efc6b3459099c8e3"
  },
  {
   "metadata": {
    "ExecuteTime": {
     "end_time": "2024-11-14T13:03:05.194009Z",
     "start_time": "2024-11-14T13:03:05.191763Z"
    }
   },
   "cell_type": "code",
   "source": [
    "calculate_fid = False\n",
    "\n",
    "if calculate_fid:\n",
    "    generate_images(total_images=10000, fid_batch_size=1000)"
   ],
   "id": "c1be4cfecd0eaf40",
   "outputs": [],
   "execution_count": 73
  },
  {
   "metadata": {},
   "cell_type": "markdown",
   "source": "### Inception score",
   "id": "1df9e1ea9acc7189"
  },
  {
   "metadata": {},
   "cell_type": "markdown",
   "source": [
    "Generally, to get optimal scores, the model should create images that looks like the training distribution.\n",
    "Since our model is guided, we can also try to force it to create an even amount of images of each class."
   ],
   "id": "e89990df21390104"
  },
  {
   "metadata": {
    "ExecuteTime": {
     "end_time": "2024-11-14T13:03:09.440422Z",
     "start_time": "2024-11-14T13:03:07.439793Z"
    }
   },
   "cell_type": "code",
   "source": "desired_distribution = plot_utility.get_distribution(mnist, show_plot=True)",
   "id": "1a09bc68c067c55f",
   "outputs": [
    {
     "data": {
      "text/plain": [
       "<Figure size 640x480 with 1 Axes>"
      ],
      "image/png": "[encoded data removed]"
     },
     "metadata": {},
     "output_type": "display_data"
    }
   ],
   "execution_count": 74
  },
  {
   "metadata": {},
   "cell_type": "markdown",
   "source": [
    "#### To evaluate, a model pretrained on MNIST images is used, making it a better classifier than inception-v3 for this specific dataset. \n",
    "(Note that inception scores are not directly comparable to papers that use inception-v3 even though the mathematical formulas are identical)"
   ],
   "id": "1f8f02bb6b3d04a0"
  },
  {
   "metadata": {
    "ExecuteTime": {
     "end_time": "2024-11-14T13:03:11.645703Z",
     "start_time": "2024-11-14T13:03:11.630372Z"
    }
   },
   "cell_type": "code",
   "source": [
    "importlib.reload(evaluator)\n",
    "evaluator_model = evaluator.get_MNIST_evaluator(device=gpu)"
   ],
   "id": "e6aefd67bdd89c7",
   "outputs": [],
   "execution_count": 75
  },
  {
   "metadata": {
    "ExecuteTime": {
     "end_time": "2024-11-14T13:31:54.804306Z",
     "start_time": "2024-11-14T13:31:37.520427Z"
    }
   },
   "cell_type": "code",
   "source": [
    "def show_example(num):\n",
    "    numbers = get_all_same_guidance(num)\n",
    "    numbers = nn.functional.one_hot(numbers, num_classes=num_classes)\n",
    "    numbers = numbers.type(torch.float32)\n",
    "    numbers.to(gpu)\n",
    "    \n",
    "    generated_images = p_sample_loop(diffusion_model, shape=(BATCH_SIZE, channels, image_size, image_size), conditionals=numbers)\n",
    "    \n",
    "    actual_distribution = plot_utility.get_classification_distribution_batch_sum(evaluator=evaluator_model,\n",
    "                                                                             input_batch=generated_images,\n",
    "                                                                             device=gpu,\n",
    "                                                                             channels=channels,\n",
    "                                                                             show_plot=True,\n",
    "                                                                             image_size=image_size)\n",
    "    print(actual_distribution)\n",
    "    \n",
    "show_example(3)"
   ],
   "id": "1c18019d707c569e",
   "outputs": [
    {
     "name": "stderr",
     "output_type": "stream",
     "text": [
      "Sampling loop time step.: 100%|██████████| 1000/1000 [00:16<00:00, 60.07it/s]\n"
     ]
    },
    {
     "data": {
      "text/plain": [
       "<Figure size 2000x800 with 40 Axes>"
      ],
      "image/png": "[encoded data removed]"
     },
     "metadata": {},
     "output_type": "display_data"
    },
    {
     "data": {
      "text/plain": [
       "<Figure size 640x480 with 1 Axes>"
      ],
      "image/png": "[encoded data removed]"
     },
     "metadata": {},
     "output_type": "display_data"
    },
    {
     "name": "stdout",
     "output_type": "stream",
     "text": [
      "tensor([[8.1993e-09, 2.3979e-04, 4.1807e-03, 8.4078e-01, 2.3498e-10, 1.2341e-01,\n",
      "         2.3485e-14, 3.1375e-02, 6.9176e-06, 9.3811e-06]], device='mps:0')\n"
     ]
    }
   ],
   "execution_count": 82
  },
  {
   "metadata": {
    "ExecuteTime": {
     "end_time": "2024-11-14T13:30:18.792391Z",
     "start_time": "2024-11-14T13:23:41.109187Z"
    }
   },
   "cell_type": "code",
   "source": [
    "# Inception score\n",
    "importlib.reload(plot_utility)\n",
    "\n",
    "INCEPTION_ITERATIONS = 25\n",
    "def calculate_inception_score():\n",
    "    distributions = []\n",
    "\n",
    "    for i in tqdm(range(INCEPTION_ITERATIONS)):\n",
    "        conditionals = get_all_same_guidance(i % num_classes)\n",
    "        conditionals = nn.functional.one_hot(conditionals, num_classes=num_classes)\n",
    "        conditionals = conditionals.type(torch.float32)\n",
    "        conditionals.to(gpu)\n",
    "        image_batch = p_sample_loop(diffusion_model, shape=(BATCH_SIZE, channels, image_size, image_size), conditionals=conditionals, disable_tqdm=True)\n",
    "        \n",
    "        distribution = plot_utility.get_classification_distributions(evaluator=evaluator_model,\n",
    "                                                                 input_batch=image_batch,\n",
    "                                                                 device=gpu)\n",
    "        distributions.extend(distribution)\n",
    "        \n",
    "    score = plot_utility.calculate_inception_score(distributions)\n",
    "    print(f\"score: {score}\")\n",
    "    \n",
    "calculate_inception_score()"
   ],
   "id": "5dac055a7711e37d",
   "outputs": [
    {
     "name": "stderr",
     "output_type": "stream",
     "text": [
      "100%|██████████| 25/25 [06:37<00:00, 15.90s/it]"
     ]
    },
    {
     "name": "stdout",
     "output_type": "stream",
     "text": [
      "Handling 800 batches\n",
      "With size torch.Size([1, 10])\n",
      "tensor([[1.0000e+00, 1.1313e-27, 4.7209e-17,  ..., 9.0787e-15, 1.5988e-21,\n",
      "         2.2963e-23],\n",
      "        [9.9995e-01, 7.9451e-13, 4.7482e-05,  ..., 2.0412e-16, 5.5178e-10,\n",
      "         7.5121e-11],\n",
      "        [1.0000e+00, 1.5830e-15, 6.4592e-10,  ..., 3.9461e-14, 4.8685e-21,\n",
      "         7.8394e-21],\n",
      "        ...,\n",
      "        [8.9086e-14, 9.6223e-01, 1.9090e-09,  ..., 2.7214e-05, 4.1428e-12,\n",
      "         1.6843e-10],\n",
      "        [1.0602e-21, 5.8151e-05, 1.0497e-12,  ..., 1.5811e-12, 5.3166e-15,\n",
      "         6.6783e-17],\n",
      "        [5.0889e-36, 9.4197e-17, 1.5145e-19,  ..., 7.6785e-11, 6.9349e-21,\n",
      "         1.1626e-24]], device='mps:0')\n",
      "tensor([[0.1209, 0.1601, 0.1267, 0.0995, 0.1102, 0.0879, 0.0799, 0.1155, 0.0501,\n",
      "         0.0494]], device='mps:0')\n",
      "score: 8.82306957244873\n"
     ]
    },
    {
     "name": "stderr",
     "output_type": "stream",
     "text": [
      "\n"
     ]
    }
   ],
   "execution_count": 80
  },
  {
   "metadata": {},
   "cell_type": "code",
   "outputs": [],
   "execution_count": null,
   "source": "",
   "id": "81815808580af6c1"
  }
 ],
 "metadata": {
  "kernelspec": {
   "display_name": "Python 3",
   "language": "python",
   "name": "python3"
  },
  "language_info": {
   "codemirror_mode": {
    "name": "ipython",
    "version": 2
   },
   "file_extension": ".py",
   "mimetype": "text/x-python",
   "name": "python",
   "nbconvert_exporter": "python",
   "pygments_lexer": "ipython2",
   "version": "2.7.6"
  }
 },
 "nbformat": 4,
 "nbformat_minor": 5
}
