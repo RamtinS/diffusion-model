{
 "cells": [
  {
   "cell_type": "code",
   "id": "15a99365a254056c",
   "metadata": {
    "ExecuteTime": {
     "end_time": "2024-11-15T13:32:09.253281Z",
     "start_time": "2024-11-15T13:32:09.238771Z"
    }
   },
   "source": [
    "import math\n",
    "import random\n",
    "import ssl\n",
    "import urllib.request\n",
    "import evaluator\n",
    "import os\n",
    "import torch\n",
    "import torchvision.transforms as transforms\n",
    "import importlib\n",
    "import plot_utility\n",
    "import deviceUtility\n",
    "import certifi\n",
    "import torch.nn as nn\n",
    "import torch.nn.functional as functional\n",
    "import generateImages as generator\n",
    "from torch.utils.data import DataLoader\n",
    "from torchvision.datasets import MNIST\n",
    "from tqdm import tqdm\n",
    "from tqdm.auto import tqdm\n"
   ],
   "outputs": [],
   "execution_count": 22
  },
  {
   "metadata": {
    "ExecuteTime": {
     "end_time": "2024-11-15T13:32:09.284179Z",
     "start_time": "2024-11-15T13:32:09.257417Z"
    }
   },
   "cell_type": "code",
   "source": [
    "# Fix SSL certificate issue\n",
    "ssl_context = ssl.create_default_context(cafile=certifi.where())\n",
    "urllib.request.install_opener(urllib.request.build_opener(urllib.request.HTTPSHandler(context=ssl_context)))"
   ],
   "id": "ce57f609b1f71f1",
   "outputs": [],
   "execution_count": 23
  },
  {
   "metadata": {
    "collapsed": true,
    "ExecuteTime": {
     "end_time": "2024-11-15T13:32:09.580478Z",
     "start_time": "2024-11-15T13:32:09.566309Z"
    }
   },
   "cell_type": "code",
   "source": "gpu = deviceUtility.get_best_available_device()",
   "id": "initial_id",
   "outputs": [
    {
     "name": "stdout",
     "output_type": "stream",
     "text": [
      "________________________\n",
      "\u001B[94m\n",
      "Device manager:\n",
      "Running on device: cuda\u001B[0m\n",
      "________________________\n"
     ]
    }
   ],
   "execution_count": 24
  },
  {
   "metadata": {},
   "cell_type": "markdown",
   "source": [
    "### Hyperparameters"
   ],
   "id": "f867e93ca3b4f5bf"
  },
  {
   "metadata": {
    "ExecuteTime": {
     "end_time": "2024-11-15T13:32:09.861042Z",
     "start_time": "2024-11-15T13:32:09.846562Z"
    }
   },
   "cell_type": "code",
   "source": [
    "TIME_STEP = 1000\n",
    "EPOCH_NUM = 54 \n",
    "LEARNING_RATE = 1e-4\n",
    "\n",
    "BETA_START = 1e-4\n",
    "BETA_END = 0.02\n",
    "\n",
    "BATCH_SIZE = 32\n",
    "\n",
    "GUIDANCE_PROBABILITY = 0.5\n",
    "GUIDANCE_WEIGHT = 0.2\n",
    "\n",
    "SCHEDULER = \"linear\" #either 'linear' or 'cosine'"
   ],
   "id": "f1f12a03825bc270",
   "outputs": [],
   "execution_count": 25
  },
  {
   "metadata": {},
   "cell_type": "markdown",
   "source": "### Evaluation options",
   "id": "50be958196345d15"
  },
  {
   "metadata": {
    "ExecuteTime": {
     "end_time": "2024-11-15T13:32:10.170800Z",
     "start_time": "2024-11-15T13:32:10.157291Z"
    }
   },
   "cell_type": "code",
   "source": [
    "CALCULATE_FID = True\n",
    "CALCULATE_IS = True\n"
   ],
   "id": "d4926b587a5574c6",
   "outputs": [],
   "execution_count": 26
  },
  {
   "metadata": {},
   "cell_type": "markdown",
   "source": [
    "### Precalculations"
   ],
   "id": "52f138253135a01b"
  },
  {
   "metadata": {
    "ExecuteTime": {
     "end_time": "2024-11-15T13:32:10.466529Z",
     "start_time": "2024-11-15T13:32:10.451410Z"
    }
   },
   "cell_type": "code",
   "source": [
    "def cosine_beta_scheduler(steps, s=0.008):\n",
    "    \"\"\"\n",
    "    cosine scheduler as proposed in https://arxiv.org/abs/2102.09672\n",
    "    \"\"\"\n",
    "    steps = steps + 1\n",
    "    x = torch.linspace(0, steps, steps, device=gpu)\n",
    "    alphas_cumulative_prod = torch.cos(((x / steps) + s) / (1 + s) * torch.pi * 0.5) ** 2\n",
    "    alphas_cumulative_prod = alphas_cumulative_prod / alphas_cumulative_prod[0]\n",
    "    beta_values = 1 - (alphas_cumulative_prod[1:] / alphas_cumulative_prod[:-1])\n",
    "    \n",
    "    beta_min, beta_max = 0.0001, 0.9999\n",
    "    return torch.clip(beta_values, beta_min, beta_max)\n",
    "\n",
    "def get_betas(scheduler_name):\n",
    "    \"\"\"\n",
    "    Returns a beta schedule based on the name of the scheduler, either 'linear' or 'cosine'\n",
    "    \"\"\"\n",
    "    if scheduler_name == \"linear\":\n",
    "        return torch.linspace(BETA_START, BETA_END, TIME_STEP, device=gpu)\n",
    "    elif scheduler_name == \"cosine\":\n",
    "        return cosine_beta_scheduler(TIME_STEP)\n",
    "    else:\n",
    "        raise NotImplementedError()\n",
    "        "
   ],
   "id": "df9c8aec7a964768",
   "outputs": [],
   "execution_count": 27
  },
  {
   "metadata": {
    "ExecuteTime": {
     "end_time": "2024-11-15T13:32:10.761469Z",
     "start_time": "2024-11-15T13:32:10.746955Z"
    }
   },
   "cell_type": "code",
   "source": [
    "betas = get_betas(SCHEDULER) \n",
    "alphas = 1. - betas\n",
    "alphas_cum_prod = torch.cumprod(alphas, 0)\n",
    "alphas_cum_prod_prev = functional.pad(alphas_cum_prod[:-1], (1, 0), value=1.0)\n",
    "sqrt_recip_alphas = torch.sqrt(1.0 / alphas)\n",
    "sqrt_alphas_cum_prod = torch.sqrt(alphas_cum_prod)\n",
    "sqrt_one_minus_alphas_cum_prod = torch.sqrt(1. - alphas_cum_prod)\n",
    "posterior_variance = betas * (1. - alphas_cum_prod_prev) / (1. - alphas_cum_prod)"
   ],
   "id": "f541f601c740ff10",
   "outputs": [],
   "execution_count": 28
  },
  {
   "metadata": {},
   "cell_type": "markdown",
   "source": [
    "### Helper functions"
   ],
   "id": "b02b34f767d87ab9"
  },
  {
   "metadata": {
    "ExecuteTime": {
     "end_time": "2024-11-15T13:32:11.043193Z",
     "start_time": "2024-11-15T13:32:11.029650Z"
    }
   },
   "cell_type": "code",
   "source": [
    "def extract(equation, timestep, x_shape):\n",
    "    \"\"\"\n",
    "    Extracts the values of the equation for the given timestep for every image in the batch.\n",
    "    \"\"\"\n",
    "    size = timestep.shape[0]\n",
    "    out = equation.gather(-1, timestep)\n",
    "    return out.reshape(size, *((1,) * (len(x_shape) - 1)))\n",
    "\n",
    "\n",
    "def forward_sample(image_batch, timestep, noise):\n",
    "    \"\"\"\n",
    "    Forward pass of the diffusion model.\n",
    "    Adds noise to an image at time t.\n",
    "    If noise is not provided, it is sampled from a standard normal distribution.\n",
    "    \"\"\"\n",
    "\n",
    "    # Extract the values for every image in the batch for the given timestep\n",
    "    sqrt_alphas_cum_prod_t = extract(sqrt_alphas_cum_prod, timestep, image_batch.shape)\n",
    "    sqrt_one_minus_alphas_cum_prod_t = extract(sqrt_one_minus_alphas_cum_prod, timestep, image_batch.shape)\n",
    "\n",
    "    return sqrt_alphas_cum_prod_t * image_batch + sqrt_one_minus_alphas_cum_prod_t * noise\n",
    "\n",
    "\n",
    "@torch.no_grad()\n",
    "def reverse_sample(model, x, t, t_index, condition):\n",
    "    \"\"\"\n",
    "    Reverse pass of the diffusion model.\n",
    "    Given an image at time t, it predicts the image at time t-1.\n",
    "    \"\"\"\n",
    "    condition = condition\n",
    "    betas_t = extract(betas, t, x.shape)\n",
    "\n",
    "    sqrt_one_minus_alphas_cum_prod_t = extract(\n",
    "        sqrt_one_minus_alphas_cum_prod, t, x.shape\n",
    "    )\n",
    "\n",
    "    sqrt_recip_alphas_t = extract(sqrt_recip_alphas, t, x.shape)\n",
    "\n",
    "    model_mean_unconditional = sqrt_recip_alphas_t * (x - betas_t * model(x, t) / sqrt_one_minus_alphas_cum_prod_t)\n",
    "\n",
    "    model_mean_conditional = sqrt_recip_alphas_t * (\n",
    "            x - betas_t * model(x, t, condition) / sqrt_one_minus_alphas_cum_prod_t)\n",
    "    model_mean_guided = (1 + GUIDANCE_WEIGHT) * model_mean_conditional - GUIDANCE_WEIGHT * model_mean_unconditional\n",
    "\n",
    "    if t_index == 0:\n",
    "        return model_mean_guided\n",
    "    else:\n",
    "        # Helps determine the amount of noise to remove from the image.\n",
    "        posterior_variance_t = extract(posterior_variance, t, x.shape)\n",
    "        noise = torch.randn_like(x)\n",
    "        return model_mean_guided + torch.sqrt(posterior_variance_t) * noise\n",
    "\n",
    "\n",
    "@torch.no_grad()\n",
    "def p_sample_loop(model,*, shape, conditionals, disable_tqdm = False):\n",
    "    b = shape[0]\n",
    "    \n",
    "    img = torch.randn(shape, device=gpu)  # Random noised image\n",
    "\n",
    "    for i in tqdm(reversed(range(0, TIME_STEP)), desc='Sampling loop time step.', total=TIME_STEP, disable=disable_tqdm):\n",
    "        img = reverse_sample(model=model, x=img, t=torch.full((b,), i, device=gpu, dtype=torch.long), t_index=i,\n",
    "                             condition=conditionals)\n",
    "    return img\n",
    "\n",
    "\n",
    "def p_losses(denoise_model, x_start, timestep, conditionals):\n",
    "\n",
    "    noise = torch.randn_like(x_start)\n",
    "\n",
    "    # Input image with the random noise and the timestep\n",
    "    x_noisy = forward_sample(x_start, timestep, noise)\n",
    "\n",
    "    # Feed the noisy image to the denoise model to predict the noise\n",
    "    predicted_noise = denoise_model(x_noisy, timestep, conditionals)\n",
    "\n",
    "    model_loss = functional.l1_loss(noise, predicted_noise)\n",
    "    #model_loss = functional.mse_loss(noise, predicted_noise)\n",
    "    return model_loss\n"
   ],
   "id": "48ec7d015a4da8d",
   "outputs": [],
   "execution_count": 29
  },
  {
   "metadata": {},
   "cell_type": "markdown",
   "source": [
    "### Sinusoidal Positional Embedding\n",
    "As parameter of neural network are \n",
    "shared across time one should employ \n",
    "a sinusoidal embedding to encode the position of the input. \n",
    "Makes the neural network know which timestep it is at."
   ],
   "id": "a81d9d6903c0e1b2"
  },
  {
   "metadata": {
    "ExecuteTime": {
     "end_time": "2024-11-15T13:32:11.370321Z",
     "start_time": "2024-11-15T13:32:11.356816Z"
    }
   },
   "cell_type": "code",
   "source": [
    "class SinusoidalPositionalEmbedding(nn.Module):\n",
    "    def __init__(self, embedding_dim):\n",
    "        super(SinusoidalPositionalEmbedding, self).__init__()\n",
    "        self.embedding_dim = embedding_dim\n",
    "\n",
    "    def forward(self, t):\n",
    "        # Create a sinusoidal embedding for each position in time\n",
    "        half_dim = self.embedding_dim // 2\n",
    "        emb = math.log(10000) / (half_dim - 1)\n",
    "        emb = torch.exp(torch.arange(half_dim, dtype=torch.float32, device=gpu) * -emb)\n",
    "        emb = t[:, None] * emb[None, :]\n",
    "        emb = torch.cat([torch.sin(emb), torch.cos(emb)], dim=1)\n",
    "        return emb"
   ],
   "id": "80ce23441f46147b",
   "outputs": [],
   "execution_count": 30
  },
  {
   "metadata": {},
   "cell_type": "markdown",
   "source": [
    "### Convolutional Layer\n",
    "Classes which define the building blocks of the UNet architecture.\n",
    "Consists of double convolutional layers with ReLU activation functions.\n",
    "Also includes a time embedding layer which is added to the output of the first convolutional layer."
   ],
   "id": "c0804446581939b8"
  },
  {
   "metadata": {
    "ExecuteTime": {
     "end_time": "2024-11-15T13:32:11.650331Z",
     "start_time": "2024-11-15T13:32:11.637104Z"
    }
   },
   "cell_type": "code",
   "source": [
    "class Block(nn.Module):\n",
    "    def __init__(self, in_channels, out_channels, time_emb_dim):\n",
    "        super(Block, self).__init__()\n",
    "\n",
    "        self.time_mlp = nn.Sequential(\n",
    "            SinusoidalPositionalEmbedding(time_emb_dim),\n",
    "            nn.Linear(time_emb_dim, out_channels),\n",
    "            nn.ReLU(inplace=True)\n",
    "        )\n",
    "\n",
    "        self.condition_emb = nn.Sequential(\n",
    "            nn.Linear(num_classes, out_channels),\n",
    "            nn.ReLU(inplace=True)\n",
    "        )\n",
    "\n",
    "        self.conv1 = nn.Conv2d(in_channels, out_channels, kernel_size=3, padding=1)\n",
    "        self.conv2 = nn.Conv2d(out_channels, out_channels, kernel_size=3, padding=1)\n",
    "        self.relu = nn.ReLU(inplace=True)\n",
    "\n",
    "    def forward(self, x, t, c=None):\n",
    "        # First convolution\n",
    "        h = self.relu(self.conv1(x))\n",
    "\n",
    "        # Compute time embedding and reshape to match spatial dimensions\n",
    "        time_emb = self.time_mlp(t)\n",
    "        time_emb = time_emb[(...,) + (None,) * 2]  # Shape (batch, channels, 1, 1)\n",
    "\n",
    "        # Add time embedding.\n",
    "        h = h + time_emb\n",
    "\n",
    "        if isinstance(c, torch.Tensor):\n",
    "            class_embedding = self.condition_emb(c)\n",
    "            class_embedding = class_embedding[(...,) + (None,) * 2]  # Shape (batch, channels, 1, 1)\n",
    "            h = h + class_embedding\n",
    "\n",
    "        # Second convolution.\n",
    "        h = self.relu(self.conv2(h))\n",
    "        return h"
   ],
   "id": "4fc67c307e5c487a",
   "outputs": [],
   "execution_count": 31
  },
  {
   "metadata": {},
   "cell_type": "markdown",
   "source": [
    "### U-net\n",
    "The UNet architecture for approximating the means of the posterior distribution.\n",
    "The architecture consists of a contracting path, a bottleneck, and an expanding path."
   ],
   "id": "747cdf4ad9e20cba"
  },
  {
   "metadata": {
    "ExecuteTime": {
     "end_time": "2024-11-15T13:32:11.961544Z",
     "start_time": "2024-11-15T13:32:11.948024Z"
    }
   },
   "cell_type": "code",
   "source": [
    "class UNet(nn.Module):\n",
    "    def __init__(self):\n",
    "        super(UNet, self).__init__()\n",
    "\n",
    "        self.time_emb_dim = 32\n",
    "        self.max_pool = nn.MaxPool2d(2, 2)\n",
    "\n",
    "        # Contracting path.\n",
    "        self.encoder1 = Block(1, 64, self.time_emb_dim)\n",
    "        self.encoder2 = Block(64, 128, self.time_emb_dim)\n",
    "\n",
    "        # Bottleneck: The crossing between contracting and expanding.\n",
    "        self.bottleneck = Block(128, 256, self.time_emb_dim)\n",
    "\n",
    "        # Expanding path.\n",
    "        self.up_convolution_1 = nn.ConvTranspose2d(256, 128, kernel_size=2, stride=2)\n",
    "        self.up_convolution_2 = nn.ConvTranspose2d(128, 64, kernel_size=2, stride=2)\n",
    "\n",
    "        self.decoder1 = Block(256, 128, self.time_emb_dim)\n",
    "        self.decoder2 = Block(128, 64, self.time_emb_dim)\n",
    "\n",
    "        self.output_layer = nn.Conv2d(64, 1, kernel_size=1)\n",
    "\n",
    "    def forward(self, x, t, c=None):\n",
    "        # Contracting path.\n",
    "        enc1_out = self.encoder1(x, t, c)\n",
    "        pool_enc1_out = self.max_pool(enc1_out)\n",
    "\n",
    "        enc2_out = self.encoder2(pool_enc1_out, t, c)\n",
    "        pool_enc2_out = self.max_pool(enc2_out)\n",
    "\n",
    "        # Bottleneck\n",
    "        bottle_out = self.bottleneck(pool_enc2_out, t, c)\n",
    "\n",
    "        # Expanding path.\n",
    "        up_conv_1_out = self.up_convolution_1(bottle_out)\n",
    "        crop_up_conv_1_out = crop_tensor(enc2_out, up_conv_1_out)\n",
    "        dec1_out = self.decoder1(torch.cat([up_conv_1_out, crop_up_conv_1_out], dim=1), t, c)\n",
    "\n",
    "        up_conv_2_out = self.up_convolution_2(dec1_out)\n",
    "        crop_up_conv_2_out = crop_tensor(enc1_out, up_conv_2_out)\n",
    "        dec2_out = self.decoder2(torch.cat([up_conv_2_out, crop_up_conv_2_out], dim=1), t, c)\n",
    "\n",
    "        output = self.output_layer(dec2_out)\n",
    "\n",
    "        return output\n",
    "\n",
    "def crop_tensor(tensor, target_tensor):\n",
    "    \"\"\"\n",
    "    Make the tensor the same size as the target tensor by cropping.\n",
    "    \"\"\"\n",
    "    target_size = target_tensor.size()[2:]\n",
    "    tensor_size = tensor.size()[2:]\n",
    "    delta_h = (tensor_size[0] - target_size[0]) // 2\n",
    "    delta_w = (tensor_size[1] - target_size[1]) // 2\n",
    "    return tensor[:, :, delta_h:tensor_size[0] - delta_h,\n",
    "           delta_w:tensor_size[1] - delta_w]"
   ],
   "id": "fd6ec495e119642d",
   "outputs": [],
   "execution_count": 32
  },
  {
   "metadata": {},
   "cell_type": "markdown",
   "source": [
    "### Load data"
   ],
   "id": "fd4a00b46673a8a6"
  },
  {
   "metadata": {
    "ExecuteTime": {
     "end_time": "2024-11-15T13:32:12.305358Z",
     "start_time": "2024-11-15T13:32:12.244984Z"
    }
   },
   "cell_type": "code",
   "source": [
    "image_size = 28 # Length and width of the images\n",
    "channels = 1  # Grey scale\n",
    "num_classes = 10 # possible classes in the mnist dataset (0-9)\n",
    "mnist_transformation = transforms.Compose(\n",
    "    [\n",
    "        transforms.ToTensor(),\n",
    "        transforms.Lambda(lambda x: (x * 2) - 1),  # Normalize to [-1, 1]\n",
    "    ]\n",
    ")\n",
    "\n",
    "mnist = MNIST(root='.', train=True, download=True, transform=mnist_transformation)\n",
    "\n",
    "dataloader = DataLoader(mnist, batch_size=BATCH_SIZE, shuffle=True, )"
   ],
   "id": "bc9558cdca3c860f",
   "outputs": [],
   "execution_count": 33
  },
  {
   "metadata": {},
   "cell_type": "markdown",
   "source": [
    "### Training model\n"
   ],
   "id": "e60154cf4fa8d6b"
  },
  {
   "metadata": {
    "ExecuteTime": {
     "end_time": "2024-11-15T13:32:32.797003Z",
     "start_time": "2024-11-15T13:32:12.618483Z"
    }
   },
   "cell_type": "code",
   "source": [
    "# Train model\n",
    "diffusion_model = UNet().to(gpu)\n",
    "optimizer = torch.optim.Adam(diffusion_model.parameters(), lr=LEARNING_RATE)\n",
    "\n",
    "with tqdm(range(0, EPOCH_NUM), desc=\"Epochs\", total=EPOCH_NUM) as epoch_progress:\n",
    "    for epoch in epoch_progress:\n",
    "        for step, (batch, class_values) in enumerate(dataloader):\n",
    "            optimizer.zero_grad()\n",
    "\n",
    "            batch = batch.to(gpu)\n",
    "            class_values = class_values.to(gpu)\n",
    "            \n",
    "            # Convert the labels to one-hot encoding half of the time. \n",
    "            if random.random() < GUIDANCE_PROBABILITY:\n",
    "                batch_conditionals = nn.functional.one_hot(class_values, num_classes=num_classes).float()\n",
    "            else:\n",
    "                batch_conditionals = torch.zeros((BATCH_SIZE, num_classes), device=gpu)\n",
    "\n",
    "        \n",
    "            # Sample t uniformly for every example in the batch\n",
    "            t_sample = torch.randint(0, TIME_STEP, (BATCH_SIZE,), device=gpu).long()\n",
    "            loss = p_losses(diffusion_model, batch, t_sample, conditionals=batch_conditionals)\n",
    "\n",
    "            # If the step is a multiple of 100, update the loss in tqdm\n",
    "            if step % 100 == 0:\n",
    "                epoch_progress.set_postfix(loss=loss.item())\n",
    "\n",
    "            \n",
    "            loss.backward()\n",
    "            optimizer.step()"
   ],
   "id": "d4739cfd2ad3f465",
   "outputs": [
    {
     "name": "stderr",
     "output_type": "stream",
     "text": [
      "Epochs:   0%|          | 0/54 [00:19<?, ?it/s, loss=0.119]\n"
     ]
    },
    {
     "ename": "KeyboardInterrupt",
     "evalue": "",
     "output_type": "error",
     "traceback": [
      "\u001B[1;31m---------------------------------------------------------------------------\u001B[0m",
      "\u001B[1;31mKeyboardInterrupt\u001B[0m                         Traceback (most recent call last)",
      "Cell \u001B[1;32mIn[34], line 30\u001B[0m\n\u001B[0;32m     26\u001B[0m     epoch_progress\u001B[38;5;241m.\u001B[39mset_postfix(loss\u001B[38;5;241m=\u001B[39mloss\u001B[38;5;241m.\u001B[39mitem())\n\u001B[0;32m     29\u001B[0m loss\u001B[38;5;241m.\u001B[39mbackward()\n\u001B[1;32m---> 30\u001B[0m \u001B[43moptimizer\u001B[49m\u001B[38;5;241;43m.\u001B[39;49m\u001B[43mstep\u001B[49m\u001B[43m(\u001B[49m\u001B[43m)\u001B[49m\n",
      "File \u001B[1;32m~\\PycharmProjects\\maskin\\cuda1\\.venv\\lib\\site-packages\\torch\\optim\\optimizer.py:487\u001B[0m, in \u001B[0;36mOptimizer.profile_hook_step.<locals>.wrapper\u001B[1;34m(*args, **kwargs)\u001B[0m\n\u001B[0;32m    482\u001B[0m         \u001B[38;5;28;01melse\u001B[39;00m:\n\u001B[0;32m    483\u001B[0m             \u001B[38;5;28;01mraise\u001B[39;00m \u001B[38;5;167;01mRuntimeError\u001B[39;00m(\n\u001B[0;32m    484\u001B[0m                 \u001B[38;5;124mf\u001B[39m\u001B[38;5;124m\"\u001B[39m\u001B[38;5;132;01m{\u001B[39;00mfunc\u001B[38;5;132;01m}\u001B[39;00m\u001B[38;5;124m must return None or a tuple of (new_args, new_kwargs), but got \u001B[39m\u001B[38;5;132;01m{\u001B[39;00mresult\u001B[38;5;132;01m}\u001B[39;00m\u001B[38;5;124m.\u001B[39m\u001B[38;5;124m\"\u001B[39m\n\u001B[0;32m    485\u001B[0m             )\n\u001B[1;32m--> 487\u001B[0m out \u001B[38;5;241m=\u001B[39m func(\u001B[38;5;241m*\u001B[39margs, \u001B[38;5;241m*\u001B[39m\u001B[38;5;241m*\u001B[39mkwargs)\n\u001B[0;32m    488\u001B[0m \u001B[38;5;28mself\u001B[39m\u001B[38;5;241m.\u001B[39m_optimizer_step_code()\n\u001B[0;32m    490\u001B[0m \u001B[38;5;66;03m# call optimizer step post hooks\u001B[39;00m\n",
      "File \u001B[1;32m~\\PycharmProjects\\maskin\\cuda1\\.venv\\lib\\site-packages\\torch\\optim\\optimizer.py:91\u001B[0m, in \u001B[0;36m_use_grad_for_differentiable.<locals>._use_grad\u001B[1;34m(self, *args, **kwargs)\u001B[0m\n\u001B[0;32m     89\u001B[0m     torch\u001B[38;5;241m.\u001B[39mset_grad_enabled(\u001B[38;5;28mself\u001B[39m\u001B[38;5;241m.\u001B[39mdefaults[\u001B[38;5;124m\"\u001B[39m\u001B[38;5;124mdifferentiable\u001B[39m\u001B[38;5;124m\"\u001B[39m])\n\u001B[0;32m     90\u001B[0m     torch\u001B[38;5;241m.\u001B[39m_dynamo\u001B[38;5;241m.\u001B[39mgraph_break()\n\u001B[1;32m---> 91\u001B[0m     ret \u001B[38;5;241m=\u001B[39m func(\u001B[38;5;28mself\u001B[39m, \u001B[38;5;241m*\u001B[39margs, \u001B[38;5;241m*\u001B[39m\u001B[38;5;241m*\u001B[39mkwargs)\n\u001B[0;32m     92\u001B[0m \u001B[38;5;28;01mfinally\u001B[39;00m:\n\u001B[0;32m     93\u001B[0m     torch\u001B[38;5;241m.\u001B[39m_dynamo\u001B[38;5;241m.\u001B[39mgraph_break()\n",
      "File \u001B[1;32m~\\PycharmProjects\\maskin\\cuda1\\.venv\\lib\\site-packages\\torch\\optim\\adam.py:223\u001B[0m, in \u001B[0;36mAdam.step\u001B[1;34m(self, closure)\u001B[0m\n\u001B[0;32m    211\u001B[0m     beta1, beta2 \u001B[38;5;241m=\u001B[39m group[\u001B[38;5;124m\"\u001B[39m\u001B[38;5;124mbetas\u001B[39m\u001B[38;5;124m\"\u001B[39m]\n\u001B[0;32m    213\u001B[0m     has_complex \u001B[38;5;241m=\u001B[39m \u001B[38;5;28mself\u001B[39m\u001B[38;5;241m.\u001B[39m_init_group(\n\u001B[0;32m    214\u001B[0m         group,\n\u001B[0;32m    215\u001B[0m         params_with_grad,\n\u001B[1;32m   (...)\u001B[0m\n\u001B[0;32m    220\u001B[0m         state_steps,\n\u001B[0;32m    221\u001B[0m     )\n\u001B[1;32m--> 223\u001B[0m     \u001B[43madam\u001B[49m\u001B[43m(\u001B[49m\n\u001B[0;32m    224\u001B[0m \u001B[43m        \u001B[49m\u001B[43mparams_with_grad\u001B[49m\u001B[43m,\u001B[49m\n\u001B[0;32m    225\u001B[0m \u001B[43m        \u001B[49m\u001B[43mgrads\u001B[49m\u001B[43m,\u001B[49m\n\u001B[0;32m    226\u001B[0m \u001B[43m        \u001B[49m\u001B[43mexp_avgs\u001B[49m\u001B[43m,\u001B[49m\n\u001B[0;32m    227\u001B[0m \u001B[43m        \u001B[49m\u001B[43mexp_avg_sqs\u001B[49m\u001B[43m,\u001B[49m\n\u001B[0;32m    228\u001B[0m \u001B[43m        \u001B[49m\u001B[43mmax_exp_avg_sqs\u001B[49m\u001B[43m,\u001B[49m\n\u001B[0;32m    229\u001B[0m \u001B[43m        \u001B[49m\u001B[43mstate_steps\u001B[49m\u001B[43m,\u001B[49m\n\u001B[0;32m    230\u001B[0m \u001B[43m        \u001B[49m\u001B[43mamsgrad\u001B[49m\u001B[38;5;241;43m=\u001B[39;49m\u001B[43mgroup\u001B[49m\u001B[43m[\u001B[49m\u001B[38;5;124;43m\"\u001B[39;49m\u001B[38;5;124;43mamsgrad\u001B[39;49m\u001B[38;5;124;43m\"\u001B[39;49m\u001B[43m]\u001B[49m\u001B[43m,\u001B[49m\n\u001B[0;32m    231\u001B[0m \u001B[43m        \u001B[49m\u001B[43mhas_complex\u001B[49m\u001B[38;5;241;43m=\u001B[39;49m\u001B[43mhas_complex\u001B[49m\u001B[43m,\u001B[49m\n\u001B[0;32m    232\u001B[0m \u001B[43m        \u001B[49m\u001B[43mbeta1\u001B[49m\u001B[38;5;241;43m=\u001B[39;49m\u001B[43mbeta1\u001B[49m\u001B[43m,\u001B[49m\n\u001B[0;32m    233\u001B[0m \u001B[43m        \u001B[49m\u001B[43mbeta2\u001B[49m\u001B[38;5;241;43m=\u001B[39;49m\u001B[43mbeta2\u001B[49m\u001B[43m,\u001B[49m\n\u001B[0;32m    234\u001B[0m \u001B[43m        \u001B[49m\u001B[43mlr\u001B[49m\u001B[38;5;241;43m=\u001B[39;49m\u001B[43mgroup\u001B[49m\u001B[43m[\u001B[49m\u001B[38;5;124;43m\"\u001B[39;49m\u001B[38;5;124;43mlr\u001B[39;49m\u001B[38;5;124;43m\"\u001B[39;49m\u001B[43m]\u001B[49m\u001B[43m,\u001B[49m\n\u001B[0;32m    235\u001B[0m \u001B[43m        \u001B[49m\u001B[43mweight_decay\u001B[49m\u001B[38;5;241;43m=\u001B[39;49m\u001B[43mgroup\u001B[49m\u001B[43m[\u001B[49m\u001B[38;5;124;43m\"\u001B[39;49m\u001B[38;5;124;43mweight_decay\u001B[39;49m\u001B[38;5;124;43m\"\u001B[39;49m\u001B[43m]\u001B[49m\u001B[43m,\u001B[49m\n\u001B[0;32m    236\u001B[0m \u001B[43m        \u001B[49m\u001B[43meps\u001B[49m\u001B[38;5;241;43m=\u001B[39;49m\u001B[43mgroup\u001B[49m\u001B[43m[\u001B[49m\u001B[38;5;124;43m\"\u001B[39;49m\u001B[38;5;124;43meps\u001B[39;49m\u001B[38;5;124;43m\"\u001B[39;49m\u001B[43m]\u001B[49m\u001B[43m,\u001B[49m\n\u001B[0;32m    237\u001B[0m \u001B[43m        \u001B[49m\u001B[43mmaximize\u001B[49m\u001B[38;5;241;43m=\u001B[39;49m\u001B[43mgroup\u001B[49m\u001B[43m[\u001B[49m\u001B[38;5;124;43m\"\u001B[39;49m\u001B[38;5;124;43mmaximize\u001B[39;49m\u001B[38;5;124;43m\"\u001B[39;49m\u001B[43m]\u001B[49m\u001B[43m,\u001B[49m\n\u001B[0;32m    238\u001B[0m \u001B[43m        \u001B[49m\u001B[43mforeach\u001B[49m\u001B[38;5;241;43m=\u001B[39;49m\u001B[43mgroup\u001B[49m\u001B[43m[\u001B[49m\u001B[38;5;124;43m\"\u001B[39;49m\u001B[38;5;124;43mforeach\u001B[39;49m\u001B[38;5;124;43m\"\u001B[39;49m\u001B[43m]\u001B[49m\u001B[43m,\u001B[49m\n\u001B[0;32m    239\u001B[0m \u001B[43m        \u001B[49m\u001B[43mcapturable\u001B[49m\u001B[38;5;241;43m=\u001B[39;49m\u001B[43mgroup\u001B[49m\u001B[43m[\u001B[49m\u001B[38;5;124;43m\"\u001B[39;49m\u001B[38;5;124;43mcapturable\u001B[39;49m\u001B[38;5;124;43m\"\u001B[39;49m\u001B[43m]\u001B[49m\u001B[43m,\u001B[49m\n\u001B[0;32m    240\u001B[0m \u001B[43m        \u001B[49m\u001B[43mdifferentiable\u001B[49m\u001B[38;5;241;43m=\u001B[39;49m\u001B[43mgroup\u001B[49m\u001B[43m[\u001B[49m\u001B[38;5;124;43m\"\u001B[39;49m\u001B[38;5;124;43mdifferentiable\u001B[39;49m\u001B[38;5;124;43m\"\u001B[39;49m\u001B[43m]\u001B[49m\u001B[43m,\u001B[49m\n\u001B[0;32m    241\u001B[0m \u001B[43m        \u001B[49m\u001B[43mfused\u001B[49m\u001B[38;5;241;43m=\u001B[39;49m\u001B[43mgroup\u001B[49m\u001B[43m[\u001B[49m\u001B[38;5;124;43m\"\u001B[39;49m\u001B[38;5;124;43mfused\u001B[39;49m\u001B[38;5;124;43m\"\u001B[39;49m\u001B[43m]\u001B[49m\u001B[43m,\u001B[49m\n\u001B[0;32m    242\u001B[0m \u001B[43m        \u001B[49m\u001B[43mgrad_scale\u001B[49m\u001B[38;5;241;43m=\u001B[39;49m\u001B[38;5;28;43mgetattr\u001B[39;49m\u001B[43m(\u001B[49m\u001B[38;5;28;43mself\u001B[39;49m\u001B[43m,\u001B[49m\u001B[43m \u001B[49m\u001B[38;5;124;43m\"\u001B[39;49m\u001B[38;5;124;43mgrad_scale\u001B[39;49m\u001B[38;5;124;43m\"\u001B[39;49m\u001B[43m,\u001B[49m\u001B[43m \u001B[49m\u001B[38;5;28;43;01mNone\u001B[39;49;00m\u001B[43m)\u001B[49m\u001B[43m,\u001B[49m\n\u001B[0;32m    243\u001B[0m \u001B[43m        \u001B[49m\u001B[43mfound_inf\u001B[49m\u001B[38;5;241;43m=\u001B[39;49m\u001B[38;5;28;43mgetattr\u001B[39;49m\u001B[43m(\u001B[49m\u001B[38;5;28;43mself\u001B[39;49m\u001B[43m,\u001B[49m\u001B[43m \u001B[49m\u001B[38;5;124;43m\"\u001B[39;49m\u001B[38;5;124;43mfound_inf\u001B[39;49m\u001B[38;5;124;43m\"\u001B[39;49m\u001B[43m,\u001B[49m\u001B[43m \u001B[49m\u001B[38;5;28;43;01mNone\u001B[39;49;00m\u001B[43m)\u001B[49m\u001B[43m,\u001B[49m\n\u001B[0;32m    244\u001B[0m \u001B[43m    \u001B[49m\u001B[43m)\u001B[49m\n\u001B[0;32m    246\u001B[0m \u001B[38;5;28;01mreturn\u001B[39;00m loss\n",
      "File \u001B[1;32m~\\PycharmProjects\\maskin\\cuda1\\.venv\\lib\\site-packages\\torch\\optim\\optimizer.py:154\u001B[0m, in \u001B[0;36m_disable_dynamo_if_unsupported.<locals>.wrapper.<locals>.maybe_fallback\u001B[1;34m(*args, **kwargs)\u001B[0m\n\u001B[0;32m    152\u001B[0m     \u001B[38;5;28;01mreturn\u001B[39;00m disabled_func(\u001B[38;5;241m*\u001B[39margs, \u001B[38;5;241m*\u001B[39m\u001B[38;5;241m*\u001B[39mkwargs)\n\u001B[0;32m    153\u001B[0m \u001B[38;5;28;01melse\u001B[39;00m:\n\u001B[1;32m--> 154\u001B[0m     \u001B[38;5;28;01mreturn\u001B[39;00m func(\u001B[38;5;241m*\u001B[39margs, \u001B[38;5;241m*\u001B[39m\u001B[38;5;241m*\u001B[39mkwargs)\n",
      "File \u001B[1;32m~\\PycharmProjects\\maskin\\cuda1\\.venv\\lib\\site-packages\\torch\\optim\\adam.py:784\u001B[0m, in \u001B[0;36madam\u001B[1;34m(params, grads, exp_avgs, exp_avg_sqs, max_exp_avg_sqs, state_steps, foreach, capturable, differentiable, fused, grad_scale, found_inf, has_complex, amsgrad, beta1, beta2, lr, weight_decay, eps, maximize)\u001B[0m\n\u001B[0;32m    781\u001B[0m \u001B[38;5;28;01melse\u001B[39;00m:\n\u001B[0;32m    782\u001B[0m     func \u001B[38;5;241m=\u001B[39m _single_tensor_adam\n\u001B[1;32m--> 784\u001B[0m \u001B[43mfunc\u001B[49m\u001B[43m(\u001B[49m\n\u001B[0;32m    785\u001B[0m \u001B[43m    \u001B[49m\u001B[43mparams\u001B[49m\u001B[43m,\u001B[49m\n\u001B[0;32m    786\u001B[0m \u001B[43m    \u001B[49m\u001B[43mgrads\u001B[49m\u001B[43m,\u001B[49m\n\u001B[0;32m    787\u001B[0m \u001B[43m    \u001B[49m\u001B[43mexp_avgs\u001B[49m\u001B[43m,\u001B[49m\n\u001B[0;32m    788\u001B[0m \u001B[43m    \u001B[49m\u001B[43mexp_avg_sqs\u001B[49m\u001B[43m,\u001B[49m\n\u001B[0;32m    789\u001B[0m \u001B[43m    \u001B[49m\u001B[43mmax_exp_avg_sqs\u001B[49m\u001B[43m,\u001B[49m\n\u001B[0;32m    790\u001B[0m \u001B[43m    \u001B[49m\u001B[43mstate_steps\u001B[49m\u001B[43m,\u001B[49m\n\u001B[0;32m    791\u001B[0m \u001B[43m    \u001B[49m\u001B[43mamsgrad\u001B[49m\u001B[38;5;241;43m=\u001B[39;49m\u001B[43mamsgrad\u001B[49m\u001B[43m,\u001B[49m\n\u001B[0;32m    792\u001B[0m \u001B[43m    \u001B[49m\u001B[43mhas_complex\u001B[49m\u001B[38;5;241;43m=\u001B[39;49m\u001B[43mhas_complex\u001B[49m\u001B[43m,\u001B[49m\n\u001B[0;32m    793\u001B[0m \u001B[43m    \u001B[49m\u001B[43mbeta1\u001B[49m\u001B[38;5;241;43m=\u001B[39;49m\u001B[43mbeta1\u001B[49m\u001B[43m,\u001B[49m\n\u001B[0;32m    794\u001B[0m \u001B[43m    \u001B[49m\u001B[43mbeta2\u001B[49m\u001B[38;5;241;43m=\u001B[39;49m\u001B[43mbeta2\u001B[49m\u001B[43m,\u001B[49m\n\u001B[0;32m    795\u001B[0m \u001B[43m    \u001B[49m\u001B[43mlr\u001B[49m\u001B[38;5;241;43m=\u001B[39;49m\u001B[43mlr\u001B[49m\u001B[43m,\u001B[49m\n\u001B[0;32m    796\u001B[0m \u001B[43m    \u001B[49m\u001B[43mweight_decay\u001B[49m\u001B[38;5;241;43m=\u001B[39;49m\u001B[43mweight_decay\u001B[49m\u001B[43m,\u001B[49m\n\u001B[0;32m    797\u001B[0m \u001B[43m    \u001B[49m\u001B[43meps\u001B[49m\u001B[38;5;241;43m=\u001B[39;49m\u001B[43meps\u001B[49m\u001B[43m,\u001B[49m\n\u001B[0;32m    798\u001B[0m \u001B[43m    \u001B[49m\u001B[43mmaximize\u001B[49m\u001B[38;5;241;43m=\u001B[39;49m\u001B[43mmaximize\u001B[49m\u001B[43m,\u001B[49m\n\u001B[0;32m    799\u001B[0m \u001B[43m    \u001B[49m\u001B[43mcapturable\u001B[49m\u001B[38;5;241;43m=\u001B[39;49m\u001B[43mcapturable\u001B[49m\u001B[43m,\u001B[49m\n\u001B[0;32m    800\u001B[0m \u001B[43m    \u001B[49m\u001B[43mdifferentiable\u001B[49m\u001B[38;5;241;43m=\u001B[39;49m\u001B[43mdifferentiable\u001B[49m\u001B[43m,\u001B[49m\n\u001B[0;32m    801\u001B[0m \u001B[43m    \u001B[49m\u001B[43mgrad_scale\u001B[49m\u001B[38;5;241;43m=\u001B[39;49m\u001B[43mgrad_scale\u001B[49m\u001B[43m,\u001B[49m\n\u001B[0;32m    802\u001B[0m \u001B[43m    \u001B[49m\u001B[43mfound_inf\u001B[49m\u001B[38;5;241;43m=\u001B[39;49m\u001B[43mfound_inf\u001B[49m\u001B[43m,\u001B[49m\n\u001B[0;32m    803\u001B[0m \u001B[43m\u001B[49m\u001B[43m)\u001B[49m\n",
      "File \u001B[1;32m~\\PycharmProjects\\maskin\\cuda1\\.venv\\lib\\site-packages\\torch\\optim\\adam.py:611\u001B[0m, in \u001B[0;36m_multi_tensor_adam\u001B[1;34m(params, grads, exp_avgs, exp_avg_sqs, max_exp_avg_sqs, state_steps, grad_scale, found_inf, amsgrad, has_complex, beta1, beta2, lr, weight_decay, eps, maximize, capturable, differentiable)\u001B[0m\n\u001B[0;32m    609\u001B[0m     exp_avg_sq_sqrt \u001B[38;5;241m=\u001B[39m torch\u001B[38;5;241m.\u001B[39m_foreach_sqrt(device_max_exp_avg_sqs)\n\u001B[0;32m    610\u001B[0m \u001B[38;5;28;01melse\u001B[39;00m:\n\u001B[1;32m--> 611\u001B[0m     exp_avg_sq_sqrt \u001B[38;5;241m=\u001B[39m \u001B[43mtorch\u001B[49m\u001B[38;5;241;43m.\u001B[39;49m\u001B[43m_foreach_sqrt\u001B[49m\u001B[43m(\u001B[49m\u001B[43mdevice_exp_avg_sqs\u001B[49m\u001B[43m)\u001B[49m\n\u001B[0;32m    613\u001B[0m torch\u001B[38;5;241m.\u001B[39m_foreach_div_(exp_avg_sq_sqrt, bias_correction2_sqrt)\n\u001B[0;32m    614\u001B[0m torch\u001B[38;5;241m.\u001B[39m_foreach_add_(exp_avg_sq_sqrt, eps)\n",
      "\u001B[1;31mKeyboardInterrupt\u001B[0m: "
     ]
    }
   ],
   "execution_count": 34
  },
  {
   "metadata": {},
   "cell_type": "markdown",
   "source": "### Helper functions for generating and images",
   "id": "2f27345b2119b5bd"
  },
  {
   "metadata": {
    "ExecuteTime": {
     "end_time": "2024-11-15T13:32:32.871538Z",
     "start_time": "2024-11-15T12:14:44.175349Z"
    }
   },
   "cell_type": "code",
   "source": [
    "def get_sequential_guidance():\n",
    "    \"\"\"\n",
    "    Creates a BATCH_SIZE long tensor with sequential classes\n",
    "    \"\"\"\n",
    "    return torch.tensor([i % num_classes for i in range(BATCH_SIZE)], device=gpu)\n",
    "\n",
    "def get_random_guidance():\n",
    "    \"\"\"\n",
    "    Creates a BATCH_SIZE long tensor with random ints between 0 (inclusive) and num_classes (exclusive)\n",
    "    \"\"\"\n",
    "    return torch.randint(0, num_classes, size=(BATCH_SIZE,), device=gpu)\n",
    "\n",
    "def get_all_same_guidance(number_class):\n",
    "    \"\"\"\n",
    "    Creates a BATCH_SIZE long tensor where all entries are of class 'numberClass'\n",
    "    \"\"\"\n",
    "    return torch.ones(BATCH_SIZE, dtype=torch.long, device=gpu) * int(number_class)\n",
    "\n",
    "def save_tensor_as_image(tensor, path, start_idx=0):\n",
    "    \"\"\"\n",
    "    Saves an image tensor as a PIL image\n",
    "    \"\"\"\n",
    "    tensor = torch.clamp(tensor, 0, 1)\n",
    "    \n",
    "    transform = transforms.ToPILImage()\n",
    "    for i, img_tensor in enumerate(tensor):\n",
    "        img = transform(img_tensor)\n",
    "        img.save(os.path.join(path, f\"sample{start_idx + i}.png\"))\n",
    "\n",
    "def generate_images(total_images=10000, fid_batch_size=1000):\n",
    "    \"\"\"\n",
    "    Generates a 'total_images' images in batches of 'fid_batch_size'\n",
    "    \"\"\"\n",
    "    path = \"./generated_images\"\n",
    "    os.makedirs(path, exist_ok=True)\n",
    "\n",
    "    # Generate images in batches\n",
    "    for batch_idx in tqdm(range(0, total_images, fid_batch_size)):\n",
    "        class_labels = torch.tensor([i % 10 for i in range(fid_batch_size)], device=gpu)\n",
    "        class_labels = nn.functional.one_hot(class_labels, num_classes=10).float()\n",
    "            \n",
    "        # Generate images\n",
    "        image_batch = p_sample_loop(\n",
    "            diffusion_model,\n",
    "            shape=(fid_batch_size, channels, image_size, image_size),\n",
    "            conditionals=class_labels,\n",
    "            disable_tqdm=True\n",
    "        )\n",
    "\n",
    "        # Save images with continuous numbering\n",
    "        save_tensor_as_image(image_batch, path, start_idx=batch_idx)\n",
    "\n",
    "        torch.cuda.empty_cache()\n",
    "    "
   ],
   "id": "96735a11f4a09034",
   "outputs": [],
   "execution_count": 14
  },
  {
   "metadata": {},
   "cell_type": "markdown",
   "source": [
    "# Model evaluation"
   ],
   "id": "e346ceab81aaf41c"
  },
  {
   "metadata": {},
   "cell_type": "markdown",
   "source": "### FID (Frechét inception distance)",
   "id": "efc6b3459099c8e3"
  },
  {
   "metadata": {
    "ExecuteTime": {
     "end_time": "2024-11-15T13:32:32.871538Z",
     "start_time": "2024-11-15T12:14:44.199074Z"
    }
   },
   "cell_type": "code",
   "source": [
    "importlib.reload(generator)\n",
    "if CALCULATE_FID:\n",
    "    generator.add_mnist_original_images_if_not_exist()\n",
    "    generate_images(total_images=10000, fid_batch_size=1000)\n",
    "    fid_result = !python -m pytorch_fid ./dataset/test/ ./generated_images/\n",
    "    fid_result = str(fid_result).split(\"FID:\")[-1]\n",
    "    fid_result = fid_result.replace(\" \", \"\").replace(\"']\", \"\")\n",
    "    print(f\"fid score: {fid_result}\")"
   ],
   "id": "c1be4cfecd0eaf40",
   "outputs": [
    {
     "name": "stdout",
     "output_type": "stream",
     "text": [
      "The mnist images for FID evaluation already exist, nothing to be done\n"
     ]
    },
    {
     "name": "stderr",
     "output_type": "stream",
     "text": [
      "100%|██████████| 10/10 [25:56<00:00, 155.62s/it]\n"
     ]
    },
    {
     "name": "stdout",
     "output_type": "stream",
     "text": [
      "fid score: 17.970201854216157\n"
     ]
    }
   ],
   "execution_count": 15
  },
  {
   "metadata": {},
   "cell_type": "markdown",
   "source": "### Inception score",
   "id": "1df9e1ea9acc7189"
  },
  {
   "metadata": {},
   "cell_type": "markdown",
   "source": [
    "Generally, to get optimal scores, the model should create images that looks like the training distribution.\n",
    "Since our model is guided, we can also try to force it to create an even amount of images of each class."
   ],
   "id": "e89990df21390104"
  },
  {
   "metadata": {
    "ExecuteTime": {
     "end_time": "2024-11-15T13:32:32.871538Z",
     "start_time": "2024-11-15T12:42:24.185171Z"
    }
   },
   "cell_type": "code",
   "source": "desired_distribution = plot_utility.get_distribution(mnist, show_plot=True)",
   "id": "1a09bc68c067c55f",
   "outputs": [
    {
     "data": {
      "text/plain": [
       "<Figure size 640x480 with 1 Axes>"
      ],
      "image/png": "[encoded data removed]"
     },
     "metadata": {},
     "output_type": "display_data"
    }
   ],
   "execution_count": 16
  },
  {
   "metadata": {},
   "cell_type": "markdown",
   "source": [
    "#### To evaluate, a model pretrained on MNIST images is used, making it a better classifier than inception-v3 for this specific dataset. \n",
    "(Note that inception scores are not directly comparable to papers that use inception-v3 even though the mathematical formulas are identical)"
   ],
   "id": "1f8f02bb6b3d04a0"
  },
  {
   "metadata": {
    "ExecuteTime": {
     "end_time": "2024-11-15T13:32:32.873041300Z",
     "start_time": "2024-11-15T12:42:31.243889Z"
    }
   },
   "cell_type": "code",
   "source": [
    "importlib.reload(evaluator)\n",
    "evaluator_model = evaluator.get_MNIST_evaluator(device=gpu)"
   ],
   "id": "e6aefd67bdd89c7",
   "outputs": [],
   "execution_count": 17
  },
  {
   "metadata": {
    "ExecuteTime": {
     "end_time": "2024-11-15T13:32:32.873041300Z",
     "start_time": "2024-11-15T12:42:31.279766Z"
    }
   },
   "cell_type": "code",
   "source": [
    "def show_example(num):\n",
    "    \"\"\"\n",
    "    Shows an example of BATCH_SIZE images of the class corresponding to num\n",
    "    \"\"\"\n",
    "    numbers = get_all_same_guidance(num)\n",
    "    numbers = nn.functional.one_hot(numbers, num_classes=num_classes)\n",
    "    numbers = numbers.type(torch.float32)\n",
    "    \n",
    "    generated_images = p_sample_loop(diffusion_model, shape=(BATCH_SIZE, channels, image_size, image_size), conditionals=numbers)\n",
    "    \n",
    "    actual_distribution = plot_utility.get_classification_distribution_batch_sum(evaluator=evaluator_model,\n",
    "                                                                             input_batch=generated_images,\n",
    "                                                                             device=gpu,\n",
    "                                                                             channels=channels,\n",
    "                                                                             show_plot=True,\n",
    "                                                                             image_size=image_size)\n",
    "    print(actual_distribution)\n",
    "    \n",
    "show_example(5)"
   ],
   "id": "1c18019d707c569e",
   "outputs": [
    {
     "name": "stderr",
     "output_type": "stream",
     "text": [
      "Sampling loop time step.: 100%|██████████| 1000/1000 [00:08<00:00, 117.97it/s]\n"
     ]
    },
    {
     "data": {
      "text/plain": [
       "<Figure size 2000x800 with 40 Axes>"
      ],
      "image/png": "[encoded data removed]"
     },
     "metadata": {},
     "output_type": "display_data"
    },
    {
     "data": {
      "text/plain": [
       "<Figure size 640x480 with 1 Axes>"
      ],
      "image/png": "[encoded data removed]"
     },
     "metadata": {},
     "output_type": "display_data"
    },
    {
     "name": "stdout",
     "output_type": "stream",
     "text": [
      "tensor([[5.5785e-11, 1.2768e-02, 1.9082e-02, 1.2258e-02, 3.6398e-09, 9.5502e-01,\n",
      "         8.7580e-04, 2.0866e-09, 3.2884e-11, 1.3421e-11]], device='cuda:0')\n"
     ]
    }
   ],
   "execution_count": 18
  },
  {
   "metadata": {
    "ExecuteTime": {
     "end_time": "2024-11-15T13:32:32.873041300Z",
     "start_time": "2024-11-15T13:26:06.088943Z"
    }
   },
   "cell_type": "code",
   "source": [
    "# Inception score\n",
    "\n",
    "INCEPTION_ITERATIONS = 300\n",
    "def calculate_inception_score():\n",
    "    \"\"\"\n",
    "    Creates INCEPTION_ITERATIONS * BATCH_SIZE images and calculates the inception score of the images\n",
    "    \"\"\"\n",
    "    distributions = []\n",
    "\n",
    "    for i in tqdm(range(INCEPTION_ITERATIONS)):\n",
    "        conditionals = get_all_same_guidance(i % num_classes)\n",
    "        conditionals = nn.functional.one_hot(conditionals, num_classes=num_classes)\n",
    "        conditionals = conditionals.type(torch.float32)\n",
    "        \n",
    "        image_batch = p_sample_loop(diffusion_model, shape=(BATCH_SIZE, channels, image_size, image_size), conditionals=conditionals, disable_tqdm=True)\n",
    "        \n",
    "        distribution = plot_utility.get_classification_distributions(evaluator=evaluator_model,\n",
    "                                                                 input_batch=image_batch,\n",
    "                                                                 device=gpu)\n",
    "        distributions.extend(distribution)\n",
    "        \n",
    "    small_number = 1e-16 # This avoids undefined behaviour when taking the log of zero\n",
    "\n",
    "    p_y_given_x = torch.cat(distributions, dim=0)\n",
    "\n",
    "    p_y = p_y_given_x.mean(dim=0, keepdim=True)\n",
    "\n",
    "    kl_divergence = p_y_given_x * (torch.log(p_y_given_x + small_number) - torch.log(p_y + small_number))\n",
    "    sum_kl_divergence = kl_divergence.sum(dim=1)\n",
    "    avg_kl_divergence = sum_kl_divergence.mean()\n",
    "\n",
    "    is_score = torch.exp(avg_kl_divergence)\n",
    "    return is_score\n",
    "\n",
    "if CALCULATE_IS:\n",
    "    inception_score = calculate_inception_score()\n",
    "    print(f\"Score is {inception_score}\")"
   ],
   "id": "5dac055a7711e37d",
   "outputs": [
    {
     "name": "stderr",
     "output_type": "stream",
     "text": [
      "100%|██████████| 15/15 [01:57<00:00,  7.83s/it]"
     ]
    },
    {
     "name": "stdout",
     "output_type": "stream",
     "text": [
      "Score is 9.171124458312988\n"
     ]
    },
    {
     "name": "stderr",
     "output_type": "stream",
     "text": [
      "\n"
     ]
    }
   ],
   "execution_count": 21
  },
  {
   "metadata": {
    "ExecuteTime": {
     "end_time": "2024-11-15T13:32:32.873041300Z",
     "start_time": "2024-11-15T12:45:50.157141Z"
    }
   },
   "cell_type": "code",
   "source": "#Score is 9.561036109924316 for 300",
   "id": "81815808580af6c1",
   "outputs": [],
   "execution_count": null
  }
 ],
 "metadata": {
  "kernelspec": {
   "display_name": "Python 3",
   "language": "python",
   "name": "python3"
  },
  "language_info": {
   "codemirror_mode": {
    "name": "ipython",
    "version": 2
   },
   "file_extension": ".py",
   "mimetype": "text/x-python",
   "name": "python",
   "nbconvert_exporter": "python",
   "pygments_lexer": "ipython2",
   "version": "2.7.6"
  }
 },
 "nbformat": 4,
 "nbformat_minor": 5
}
